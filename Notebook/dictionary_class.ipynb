{
 "cells": [
  {
   "cell_type": "markdown",
   "id": "213674a1",
   "metadata": {},
   "source": [
    "# Dictionary"
   ]
  },
  {
   "cell_type": "code",
   "execution_count": 2,
   "id": "c9eb9586",
   "metadata": {},
   "outputs": [],
   "source": [
    "student = {\"name\":\"Sonu\", \"age\":24, \"grade\":\"A\"}\n",
    "prices = {\"apple\":1.50, \"orange\":3.00, \"mango\":5.50}"
   ]
  },
  {
   "cell_type": "code",
   "execution_count": 3,
   "id": "017ef1a1",
   "metadata": {},
   "outputs": [
    {
     "data": {
      "text/plain": [
       "dict_keys(['name', 'age', 'grade'])"
      ]
     },
     "execution_count": 3,
     "metadata": {},
     "output_type": "execute_result"
    }
   ],
   "source": [
    "student.keys()"
   ]
  },
  {
   "cell_type": "code",
   "execution_count": 4,
   "id": "8d8c3d63",
   "metadata": {},
   "outputs": [
    {
     "data": {
      "text/plain": [
       "dict_values(['Sonu', 24, 'A'])"
      ]
     },
     "execution_count": 4,
     "metadata": {},
     "output_type": "execute_result"
    }
   ],
   "source": [
    "student.values()"
   ]
  },
  {
   "cell_type": "code",
   "execution_count": 5,
   "id": "810cacca",
   "metadata": {},
   "outputs": [
    {
     "data": {
      "text/plain": [
       "24"
      ]
     },
     "execution_count": 5,
     "metadata": {},
     "output_type": "execute_result"
    }
   ],
   "source": [
    "student[\"age\"]"
   ]
  },
  {
   "cell_type": "code",
   "execution_count": 9,
   "id": "ddf59c57",
   "metadata": {},
   "outputs": [
    {
     "data": {
      "text/plain": [
       "24"
      ]
     },
     "execution_count": 9,
     "metadata": {},
     "output_type": "execute_result"
    }
   ],
   "source": [
    "student.get(\"age\")"
   ]
  },
  {
   "cell_type": "code",
   "execution_count": 10,
   "id": "1e0a3c9c",
   "metadata": {},
   "outputs": [],
   "source": [
    "student_01 = {\"name\":\"Papu\",\"age\":20,\"grade\":\"B\"}"
   ]
  },
  {
   "cell_type": "code",
   "execution_count": null,
   "id": "01c9a9e2",
   "metadata": {},
   "outputs": [
    {
     "name": "stdout",
     "output_type": "stream",
     "text": [
      "Papu\n"
     ]
    }
   ],
   "source": [
    "# Direct Access\n",
    "print(student_01[\"name\"])    #\"Alice\""
   ]
  },
  {
   "cell_type": "code",
   "execution_count": null,
   "id": "d776f5c4",
   "metadata": {},
   "outputs": [
    {
     "name": "stdout",
     "output_type": "stream",
     "text": [
      "20\n"
     ]
    }
   ],
   "source": [
    "# get() method (safe access)\n",
    "\n",
    "print(student_01.get(\"age\"))     "
   ]
  },
  {
   "cell_type": "code",
   "execution_count": 15,
   "id": "3cc5781e",
   "metadata": {},
   "outputs": [
    {
     "name": "stdout",
     "output_type": "stream",
     "text": [
      "10\n"
     ]
    }
   ],
   "source": [
    "# Default Value\n",
    "\n",
    "print(student_01.get(\"height\",10))"
   ]
  },
  {
   "cell_type": "code",
   "execution_count": 17,
   "id": "fc7a891b",
   "metadata": {},
   "outputs": [
    {
     "name": "stdout",
     "output_type": "stream",
     "text": [
      "True\n",
      "False\n"
     ]
    }
   ],
   "source": [
    "# Check if Key exists\n",
    "\n",
    "print(\"age\"in student_01)\n",
    "print(\"height\" in student_01)\n"
   ]
  },
  {
   "cell_type": "code",
   "execution_count": null,
   "id": "dc0931ff",
   "metadata": {},
   "outputs": [],
   "source": []
  },
  {
   "cell_type": "code",
   "execution_count": null,
   "id": "89f6867e",
   "metadata": {},
   "outputs": [],
   "source": [
    "\n"
   ]
  },
  {
   "cell_type": "code",
   "execution_count": null,
   "id": "5ac8f74c",
   "metadata": {},
   "outputs": [],
   "source": []
  },
  {
   "cell_type": "code",
   "execution_count": 11,
   "id": "e2b4295e",
   "metadata": {},
   "outputs": [],
   "source": [
    "student = {\"Name\":\"Dipak\",\"id\":10}"
   ]
  },
  {
   "cell_type": "code",
   "execution_count": 12,
   "id": "cf163bca",
   "metadata": {},
   "outputs": [
    {
     "data": {
      "text/plain": [
       "{'Name': 'Dipak', 'id': 10, 'grade': 'A', 'city': 'BLS', 'age': 50}"
      ]
     },
     "execution_count": 12,
     "metadata": {},
     "output_type": "execute_result"
    }
   ],
   "source": [
    "# Add new key-value pair\n",
    "\n",
    "student [\"grade\"]= \"A\"\n",
    "student [\"city\"]= \"BLS\"\n",
    "student[\"age\"]= 50\n",
    "student"
   ]
  },
  {
   "cell_type": "code",
   "execution_count": 13,
   "id": "11f912b4",
   "metadata": {},
   "outputs": [],
   "source": [
    "# Add multiple element in a single line\n",
    "# update() method uses\n",
    "\n",
    "student.update({\"height\": 160, \"weight\":100})"
   ]
  },
  {
   "cell_type": "code",
   "execution_count": 14,
   "id": "21b948ee",
   "metadata": {},
   "outputs": [
    {
     "data": {
      "text/plain": [
       "{'Name': 'Dipak',\n",
       " 'id': 10,\n",
       " 'grade': 'A',\n",
       " 'city': 'BLS',\n",
       " 'age': 50,\n",
       " 'height': 160,\n",
       " 'weight': 100}"
      ]
     },
     "execution_count": 14,
     "metadata": {},
     "output_type": "execute_result"
    }
   ],
   "source": [
    "student"
   ]
  },
  {
   "cell_type": "code",
   "execution_count": 15,
   "id": "675798b5",
   "metadata": {},
   "outputs": [],
   "source": [
    "student.update (marks={\"sci\":34,\"math\":90,\"eng\":66}, subject_code=[1,3,9])"
   ]
  },
  {
   "cell_type": "code",
   "execution_count": 16,
   "id": "91ffe693",
   "metadata": {},
   "outputs": [
    {
     "data": {
      "text/plain": [
       "{'Name': 'Dipak',\n",
       " 'id': 10,\n",
       " 'grade': 'A',\n",
       " 'city': 'BLS',\n",
       " 'age': 50,\n",
       " 'height': 160,\n",
       " 'weight': 100,\n",
       " 'marks': {'sci': 34, 'math': 90, 'eng': 66},\n",
       " 'subject_code': [1, 3, 9]}"
      ]
     },
     "execution_count": 16,
     "metadata": {},
     "output_type": "execute_result"
    }
   ],
   "source": [
    "student"
   ]
  },
  {
   "cell_type": "code",
   "execution_count": null,
   "id": "cc9689de",
   "metadata": {},
   "outputs": [],
   "source": []
  }
 ],
 "metadata": {
  "kernelspec": {
   "display_name": "base",
   "language": "python",
   "name": "python3"
  },
  "language_info": {
   "codemirror_mode": {
    "name": "ipython",
    "version": 3
   },
   "file_extension": ".py",
   "mimetype": "text/x-python",
   "name": "python",
   "nbconvert_exporter": "python",
   "pygments_lexer": "ipython3",
   "version": "3.13.5"
  }
 },
 "nbformat": 4,
 "nbformat_minor": 5
}
