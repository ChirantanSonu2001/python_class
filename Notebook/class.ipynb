{
 "cells": [
  {
   "cell_type": "markdown",
   "id": "97150484",
   "metadata": {},
   "source": []
  },
  {
   "cell_type": "markdown",
   "id": "408dbf5f",
   "metadata": {},
   "source": [
    "# Class"
   ]
  },
  {
   "cell_type": "code",
   "execution_count": 12,
   "id": "580b9ecd",
   "metadata": {},
   "outputs": [],
   "source": [
    "class Car:\n",
    "\n",
    "  def __init__(self, color,engine,types):\n",
    "    self.color = color\n",
    "    self.engine = engine\n",
    "    self.types = types"
   ]
  },
  {
   "cell_type": "code",
   "execution_count": 3,
   "id": "3bbdc1b8",
   "metadata": {},
   "outputs": [],
   "source": [
    "tata = Car(\"Blue\",\"1200cc\",\"Petrol\")"
   ]
  },
  {
   "cell_type": "code",
   "execution_count": 4,
   "id": "6c28d81c",
   "metadata": {},
   "outputs": [
    {
     "data": {
      "text/plain": [
       "'Blue'"
      ]
     },
     "execution_count": 4,
     "metadata": {},
     "output_type": "execute_result"
    }
   ],
   "source": [
    "tata.color"
   ]
  },
  {
   "cell_type": "code",
   "execution_count": 5,
   "id": "019fd4af",
   "metadata": {},
   "outputs": [
    {
     "data": {
      "text/plain": [
       "'1200cc'"
      ]
     },
     "execution_count": 5,
     "metadata": {},
     "output_type": "execute_result"
    }
   ],
   "source": [
    "tata.engine"
   ]
  },
  {
   "cell_type": "code",
   "execution_count": 6,
   "id": "4bc348bd",
   "metadata": {},
   "outputs": [
    {
     "data": {
      "text/plain": [
       "'Petrol'"
      ]
     },
     "execution_count": 6,
     "metadata": {},
     "output_type": "execute_result"
    }
   ],
   "source": [
    "tata.types"
   ]
  },
  {
   "cell_type": "code",
   "execution_count": null,
   "id": "61390900",
   "metadata": {},
   "outputs": [],
   "source": [
    "# when you call a function first thing it will run constructor always\n",
    "\n",
    "# constructor purpose it is to fill the form with user input"
   ]
  },
  {
   "cell_type": "code",
   "execution_count": 13,
   "id": "535494ad",
   "metadata": {},
   "outputs": [],
   "source": [
    "ford = Car(\"Green\",2000,\"CNG\")"
   ]
  },
  {
   "cell_type": "code",
   "execution_count": 14,
   "id": "c1da8c64",
   "metadata": {},
   "outputs": [
    {
     "data": {
      "text/plain": [
       "'Green'"
      ]
     },
     "execution_count": 14,
     "metadata": {},
     "output_type": "execute_result"
    }
   ],
   "source": [
    "ford.color"
   ]
  },
  {
   "cell_type": "code",
   "execution_count": null,
   "id": "96d7e980",
   "metadata": {},
   "outputs": [],
   "source": [
    "class Student:\n",
    "  def __init__(my, name, age, grade): # Constructor\n",
    "    # this runs automatically when you add a new student\n",
    "    my.name = name    # set the students name\n",
    "    my.age = age      # set the students age\n",
    "    my.grade = grade  # set the students grade"
   ]
  },
  {
   "cell_type": "code",
   "execution_count": null,
   "id": "0db072b4",
   "metadata": {},
   "outputs": [
    {
     "data": {
      "text/plain": [
       "24"
      ]
     },
     "execution_count": 19,
     "metadata": {},
     "output_type": "execute_result"
    }
   ],
   "source": [
    "# when you do this\n",
    "sonu = Student(\"sonu\", 24,\"A\")\n",
    "sonu.name"
   ]
  },
  {
   "cell_type": "code",
   "execution_count": 20,
   "id": "03438e44",
   "metadata": {},
   "outputs": [
    {
     "data": {
      "text/plain": [
       "24"
      ]
     },
     "execution_count": 20,
     "metadata": {},
     "output_type": "execute_result"
    }
   ],
   "source": [
    "sonu.age"
   ]
  },
  {
   "cell_type": "code",
   "execution_count": 22,
   "id": "7083b6de",
   "metadata": {},
   "outputs": [],
   "source": [
    "class Student:\n",
    "  def __init__(my, name, age, grade): # Constructor\n",
    "    # this runs automatically when you add a new student\n",
    "    my.name = name    # set the students name\n",
    "    my.age = age      # set the students age\n",
    "    my.grade = grade  # set the students grade\n",
    "\n",
    "  def student_information1(my):\n",
    "    print(f\"This is {my.name} and my age is {my.age} and i am located in\")\n",
    "\n",
    "  def student_information2(my,city):\n",
    "    print(f\"This is {my.name} ,and i am located in {city} \")"
   ]
  },
  {
   "cell_type": "code",
   "execution_count": 23,
   "id": "fef0d9ba",
   "metadata": {},
   "outputs": [
    {
     "data": {
      "text/plain": [
       "25"
      ]
     },
     "execution_count": 23,
     "metadata": {},
     "output_type": "execute_result"
    }
   ],
   "source": [
    "papu = Student(\"papu\",25,\"B\")\n",
    "papu.age"
   ]
  },
  {
   "cell_type": "code",
   "execution_count": 24,
   "id": "8dfc6c96",
   "metadata": {},
   "outputs": [
    {
     "name": "stdout",
     "output_type": "stream",
     "text": [
      "This is papu and my age is 25 and i am located in\n"
     ]
    }
   ],
   "source": [
    "papu.student_information1()"
   ]
  },
  {
   "cell_type": "code",
   "execution_count": 25,
   "id": "cfdda947",
   "metadata": {},
   "outputs": [
    {
     "name": "stdout",
     "output_type": "stream",
     "text": [
      "This is papu ,and i am located in Bangalore \n"
     ]
    }
   ],
   "source": [
    "papu.student_information2(\"Bangalore\") "
   ]
  },
  {
   "cell_type": "code",
   "execution_count": null,
   "id": "802bf5a3",
   "metadata": {},
   "outputs": [],
   "source": []
  }
 ],
 "metadata": {
  "kernelspec": {
   "display_name": "base",
   "language": "python",
   "name": "python3"
  },
  "language_info": {
   "codemirror_mode": {
    "name": "ipython",
    "version": 3
   },
   "file_extension": ".py",
   "mimetype": "text/x-python",
   "name": "python",
   "nbconvert_exporter": "python",
   "pygments_lexer": "ipython3",
   "version": "3.13.5"
  }
 },
 "nbformat": 4,
 "nbformat_minor": 5
}
