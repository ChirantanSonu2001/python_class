{
 "cells": [
  {
   "cell_type": "markdown",
   "id": "7cbe6f5c",
   "metadata": {},
   "source": []
  },
  {
   "cell_type": "markdown",
   "id": "a89b4ade",
   "metadata": {},
   "source": [
    "# Function"
   ]
  },
  {
   "cell_type": "markdown",
   "id": "dedec853",
   "metadata": {},
   "source": []
  },
  {
   "cell_type": "code",
   "execution_count": null,
   "id": "5768a365",
   "metadata": {},
   "outputs": [],
   "source": [
    "# default parameter"
   ]
  },
  {
   "cell_type": "code",
   "execution_count": 1,
   "id": "de91d689",
   "metadata": {},
   "outputs": [],
   "source": [
    "def mul10(a, b=10):\n",
    "  c=a*b\n",
    "  return c"
   ]
  },
  {
   "cell_type": "code",
   "execution_count": 3,
   "id": "3f6fb1ab",
   "metadata": {},
   "outputs": [
    {
     "data": {
      "text/plain": [
       "50"
      ]
     },
     "execution_count": 3,
     "metadata": {},
     "output_type": "execute_result"
    }
   ],
   "source": [
    "y = mul10(5)\n",
    "y"
   ]
  },
  {
   "cell_type": "code",
   "execution_count": 7,
   "id": "164167c9",
   "metadata": {},
   "outputs": [
    {
     "data": {
      "text/plain": [
       "560"
      ]
     },
     "execution_count": 7,
     "metadata": {},
     "output_type": "execute_result"
    }
   ],
   "source": [
    "m = mul10(10, b=56)\n",
    "m"
   ]
  },
  {
   "cell_type": "code",
   "execution_count": 8,
   "id": "0a4960f2",
   "metadata": {},
   "outputs": [
    {
     "data": {
      "text/plain": [
       "230"
      ]
     },
     "execution_count": 8,
     "metadata": {},
     "output_type": "execute_result"
    }
   ],
   "source": [
    "z = mul10(23)\n",
    "z"
   ]
  },
  {
   "cell_type": "code",
   "execution_count": null,
   "id": "c1db46cf",
   "metadata": {},
   "outputs": [],
   "source": []
  },
  {
   "cell_type": "code",
   "execution_count": 10,
   "id": "78747633",
   "metadata": {},
   "outputs": [],
   "source": [
    "# variable length arguments\n",
    "\n",
    "def sum_numbers(*args):\n",
    "  d=sum(args)\n",
    "  return d"
   ]
  },
  {
   "cell_type": "code",
   "execution_count": 12,
   "id": "4b551d65",
   "metadata": {},
   "outputs": [
    {
     "data": {
      "text/plain": [
       "287"
      ]
     },
     "execution_count": 12,
     "metadata": {},
     "output_type": "execute_result"
    }
   ],
   "source": [
    "y= sum_numbers(1,8,99,22,84,5,23,45)\n",
    "y"
   ]
  },
  {
   "cell_type": "code",
   "execution_count": null,
   "id": "0d719a6a",
   "metadata": {},
   "outputs": [],
   "source": []
  },
  {
   "cell_type": "code",
   "execution_count": 13,
   "id": "7ed42eaa",
   "metadata": {},
   "outputs": [],
   "source": [
    "# keyword arguments"
   ]
  },
  {
   "cell_type": "code",
   "execution_count": 14,
   "id": "1dfb690f",
   "metadata": {},
   "outputs": [],
   "source": [
    "def build_profile(first_name,last_name, **user_info):\n",
    "  \"\"\"Build a user profile with additional information.\"\"\"\n",
    "\n",
    "  profile = {\n",
    "    'first_name': first_name,\n",
    "    'last_name': last_name\n",
    "  }\n",
    "\n",
    "  # add any additional information\n",
    "  for key, value in user_info.items():\n",
    "    profile[key] = value\n",
    "\n",
    "    return profile"
   ]
  },
  {
   "cell_type": "code",
   "execution_count": 16,
   "id": "fd2c87df",
   "metadata": {},
   "outputs": [
    {
     "data": {
      "text/plain": [
       "{'first_name': 'john', 'last_name': 'kim', 'age': 25}"
      ]
     },
     "execution_count": 16,
     "metadata": {},
     "output_type": "execute_result"
    }
   ],
   "source": [
    "user1 = build_profile(\"john\", \"kim\", age=25, city=\"New york\")\n",
    "user1"
   ]
  },
  {
   "cell_type": "code",
   "execution_count": 20,
   "id": "bb699e29",
   "metadata": {},
   "outputs": [
    {
     "data": {
      "text/plain": [
       "{'first_name': 'chirantan', 'last_name': 'bhatta', 'age': 24}"
      ]
     },
     "execution_count": 20,
     "metadata": {},
     "output_type": "execute_result"
    }
   ],
   "source": [
    "user2 = build_profile(\"chirantan\",\"bhatta\", age=24, city=\"BBSR\", occupation=\"Engineer\")\n",
    "user2"
   ]
  },
  {
   "cell_type": "markdown",
   "id": "7fb45d85",
   "metadata": {},
   "source": [
    "# Lambda"
   ]
  },
  {
   "cell_type": "markdown",
   "id": "598dc72c",
   "metadata": {},
   "source": []
  },
  {
   "cell_type": "code",
   "execution_count": 21,
   "id": "4dae209f",
   "metadata": {},
   "outputs": [
    {
     "name": "stdout",
     "output_type": "stream",
     "text": [
      "25\n"
     ]
    }
   ],
   "source": [
    "squre = lambda x: x*x\n",
    "print(squre(5))"
   ]
  },
  {
   "cell_type": "code",
   "execution_count": 22,
   "id": "e9fba82f",
   "metadata": {},
   "outputs": [],
   "source": [
    "def add_number(a,b):\n",
    "  return a+b"
   ]
  },
  {
   "cell_type": "code",
   "execution_count": 24,
   "id": "3df94163",
   "metadata": {},
   "outputs": [
    {
     "data": {
      "text/plain": [
       "15"
      ]
     },
     "execution_count": 24,
     "metadata": {},
     "output_type": "execute_result"
    }
   ],
   "source": [
    "y=add_number(5,10)\n",
    "y"
   ]
  },
  {
   "cell_type": "code",
   "execution_count": 25,
   "id": "2e442ec7",
   "metadata": {},
   "outputs": [],
   "source": [
    "add_number = lambda a,b:a+b"
   ]
  },
  {
   "cell_type": "code",
   "execution_count": 26,
   "id": "2c17c0e8",
   "metadata": {},
   "outputs": [
    {
     "data": {
      "text/plain": [
       "3"
      ]
     },
     "execution_count": 26,
     "metadata": {},
     "output_type": "execute_result"
    }
   ],
   "source": [
    "add_number(3,0)"
   ]
  },
  {
   "cell_type": "code",
   "execution_count": 28,
   "id": "4658077d",
   "metadata": {},
   "outputs": [],
   "source": [
    "squre_num = lambda a,b:a**b"
   ]
  },
  {
   "cell_type": "code",
   "execution_count": 29,
   "id": "1ed7d134",
   "metadata": {},
   "outputs": [
    {
     "data": {
      "text/plain": [
       "8"
      ]
     },
     "execution_count": 29,
     "metadata": {},
     "output_type": "execute_result"
    }
   ],
   "source": [
    "squre_num(2,3)"
   ]
  },
  {
   "cell_type": "code",
   "execution_count": 30,
   "id": "3a4fd151",
   "metadata": {},
   "outputs": [
    {
     "name": "stdout",
     "output_type": "stream",
     "text": [
      "25\n",
      "125\n"
     ]
    }
   ],
   "source": [
    "power = lambda x,y=2:x**y   # here y=2 is default\n",
    "print(power(5))    # 25 (5^2)\n",
    "print(power(5,3))  # 125 (5^3)"
   ]
  },
  {
   "cell_type": "markdown",
   "id": "b061fb5b",
   "metadata": {},
   "source": [
    "# map "
   ]
  },
  {
   "cell_type": "code",
   "execution_count": 51,
   "id": "273043a3",
   "metadata": {},
   "outputs": [],
   "source": [
    "def square(x):\n",
    "  return x**2"
   ]
  },
  {
   "cell_type": "code",
   "execution_count": 44,
   "id": "1ce45935",
   "metadata": {},
   "outputs": [],
   "source": [
    "nums = [1,2,4,5,8]"
   ]
  },
  {
   "cell_type": "code",
   "execution_count": 45,
   "id": "27704817",
   "metadata": {},
   "outputs": [],
   "source": [
    "add_mul = lambda x:x*10 +5"
   ]
  },
  {
   "cell_type": "code",
   "execution_count": 46,
   "id": "c9e9b71f",
   "metadata": {},
   "outputs": [
    {
     "data": {
      "text/plain": [
       "[15, 25, 45, 55, 85]"
      ]
     },
     "execution_count": 46,
     "metadata": {},
     "output_type": "execute_result"
    }
   ],
   "source": [
    "out = list(map(add_mul, nums))\n",
    "out"
   ]
  },
  {
   "cell_type": "code",
   "execution_count": 47,
   "id": "06f46efc",
   "metadata": {},
   "outputs": [
    {
     "name": "stdout",
     "output_type": "stream",
     "text": [
      "[1, 4, 16, 25, 64]\n"
     ]
    }
   ],
   "source": [
    "# Squre each number\n",
    "square = list(map(lambda x: x**2, nums))\n",
    "print(square)"
   ]
  },
  {
   "cell_type": "code",
   "execution_count": 52,
   "id": "417b8146",
   "metadata": {},
   "outputs": [
    {
     "name": "stdout",
     "output_type": "stream",
     "text": [
      "[1, 4, 16, 25, 64]\n"
     ]
    }
   ],
   "source": [
    "s = list(map(square, nums))\n",
    "print(s)   #[1,2,4,5,8]\n",
    "# use map() when you want to transform each item of a list"
   ]
  },
  {
   "cell_type": "code",
   "execution_count": null,
   "id": "94ea2ed6",
   "metadata": {},
   "outputs": [],
   "source": []
  },
  {
   "cell_type": "markdown",
   "id": "88d7d2fd",
   "metadata": {},
   "source": [
    "# Filter"
   ]
  },
  {
   "cell_type": "markdown",
   "id": "88bbe7bc",
   "metadata": {},
   "source": []
  },
  {
   "cell_type": "code",
   "execution_count": 53,
   "id": "d0299b60",
   "metadata": {},
   "outputs": [],
   "source": [
    "nums = [2,8,4,7,0,1,9]"
   ]
  },
  {
   "cell_type": "code",
   "execution_count": 54,
   "id": "fdae4693",
   "metadata": {},
   "outputs": [
    {
     "data": {
      "text/plain": [
       "[2, 8, 4, 0]"
      ]
     },
     "execution_count": 54,
     "metadata": {},
     "output_type": "execute_result"
    }
   ],
   "source": [
    "even_num = lambda x:x%2==0\n",
    "output = list(filter(even_num, nums))\n",
    "output"
   ]
  },
  {
   "cell_type": "code",
   "execution_count": 55,
   "id": "b43a55d8",
   "metadata": {},
   "outputs": [
    {
     "name": "stdout",
     "output_type": "stream",
     "text": [
      "[1, 2, 5, 7, 9]\n"
     ]
    }
   ],
   "source": [
    "nums = [5,2,9,1,7]\n",
    "print(sorted(nums))"
   ]
  },
  {
   "cell_type": "code",
   "execution_count": 59,
   "id": "f7d262a3",
   "metadata": {},
   "outputs": [
    {
     "data": {
      "text/plain": [
       "[9, 7, 5, 2, 1]"
      ]
     },
     "execution_count": 59,
     "metadata": {},
     "output_type": "execute_result"
    }
   ],
   "source": [
    "sorted(nums,reverse=True)"
   ]
  },
  {
   "cell_type": "code",
   "execution_count": 60,
   "id": "051d6b16",
   "metadata": {},
   "outputs": [],
   "source": [
    "words = [\"apple\",\"banana\",\"kiwi\",\"cherry\",\"orange\"]"
   ]
  },
  {
   "cell_type": "code",
   "execution_count": 63,
   "id": "89fa6318",
   "metadata": {},
   "outputs": [
    {
     "data": {
      "text/plain": [
       "['banana', 'cherry', 'orange', 'apple', 'kiwi']"
      ]
     },
     "execution_count": 63,
     "metadata": {},
     "output_type": "execute_result"
    }
   ],
   "source": [
    "len_char = lambda x: len(x)\n",
    "sorted(words, key=len_char, reverse=True)"
   ]
  },
  {
   "cell_type": "code",
   "execution_count": null,
   "id": "2c6943d7",
   "metadata": {},
   "outputs": [],
   "source": []
  }
 ],
 "metadata": {
  "kernelspec": {
   "display_name": "base",
   "language": "python",
   "name": "python3"
  },
  "language_info": {
   "codemirror_mode": {
    "name": "ipython",
    "version": 3
   },
   "file_extension": ".py",
   "mimetype": "text/x-python",
   "name": "python",
   "nbconvert_exporter": "python",
   "pygments_lexer": "ipython3",
   "version": "3.13.5"
  }
 },
 "nbformat": 4,
 "nbformat_minor": 5
}
