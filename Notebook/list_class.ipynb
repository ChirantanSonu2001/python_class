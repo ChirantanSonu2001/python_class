{
 "cells": [
  {
   "cell_type": "markdown",
   "id": "72418d4d",
   "metadata": {},
   "source": [
    "# List"
   ]
  },
  {
   "cell_type": "markdown",
   "id": "9acdf4be",
   "metadata": {},
   "source": [
    "List --> [ ]  (Squre Bracket)\n",
    "Tuple --> ( ) (Round Bracket)\n",
    "Dictionary --> { } (Curly Bracket)"
   ]
  },
  {
   "cell_type": "code",
   "execution_count": 7,
   "id": "dab9f0e5",
   "metadata": {},
   "outputs": [
    {
     "data": {
      "text/plain": [
       "[10.3, 27, [19, 99, 22], 'Sonu']"
      ]
     },
     "execution_count": 7,
     "metadata": {},
     "output_type": "execute_result"
    }
   ],
   "source": [
    "a = [10.3, 27,[19,99,22],'Sonu']\n",
    "a"
   ]
  },
  {
   "cell_type": "code",
   "execution_count": 8,
   "id": "258bace8",
   "metadata": {},
   "outputs": [
    {
     "data": {
      "text/plain": [
       "10.3"
      ]
     },
     "execution_count": 8,
     "metadata": {},
     "output_type": "execute_result"
    }
   ],
   "source": [
    "a[0]"
   ]
  },
  {
   "cell_type": "code",
   "execution_count": 9,
   "id": "05e7a1ba",
   "metadata": {},
   "outputs": [
    {
     "data": {
      "text/plain": [
       "[19, 99, 22]"
      ]
     },
     "execution_count": 9,
     "metadata": {},
     "output_type": "execute_result"
    }
   ],
   "source": [
    "a[2]"
   ]
  },
  {
   "cell_type": "code",
   "execution_count": 10,
   "id": "b4d8e254",
   "metadata": {},
   "outputs": [
    {
     "data": {
      "text/plain": [
       "22"
      ]
     },
     "execution_count": 10,
     "metadata": {},
     "output_type": "execute_result"
    }
   ],
   "source": [
    "a[2][2]"
   ]
  },
  {
   "cell_type": "code",
   "execution_count": 11,
   "id": "4409ba70",
   "metadata": {},
   "outputs": [
    {
     "data": {
      "text/plain": [
       "[27, [19, 99, 22], 'Sonu']"
      ]
     },
     "execution_count": 11,
     "metadata": {},
     "output_type": "execute_result"
    }
   ],
   "source": [
    "a[1:4]"
   ]
  },
  {
   "cell_type": "code",
   "execution_count": 12,
   "id": "18cd9a0a",
   "metadata": {},
   "outputs": [
    {
     "data": {
      "text/plain": [
       "[5, 13, 19, 1, 10, 9, 8, 45]"
      ]
     },
     "execution_count": 12,
     "metadata": {},
     "output_type": "execute_result"
    }
   ],
   "source": [
    "t = [5,13,19,1,10,9,8,45]\n",
    "t"
   ]
  },
  {
   "cell_type": "code",
   "execution_count": 13,
   "id": "abc06e18",
   "metadata": {},
   "outputs": [
    {
     "data": {
      "text/plain": [
       "[5, 19, 10, 8]"
      ]
     },
     "execution_count": 13,
     "metadata": {},
     "output_type": "execute_result"
    }
   ],
   "source": [
    "t[0:7:2]"
   ]
  },
  {
   "cell_type": "markdown",
   "id": "d1633e62",
   "metadata": {},
   "source": [
    "# Add Item in list\n"
   ]
  },
  {
   "cell_type": "code",
   "execution_count": 14,
   "id": "bbcec70a",
   "metadata": {},
   "outputs": [
    {
     "data": {
      "text/plain": [
       "['apple', 'banana']"
      ]
     },
     "execution_count": 14,
     "metadata": {},
     "output_type": "execute_result"
    }
   ],
   "source": [
    "fruits = [\"apple\" , \"banana\"]\n",
    "fruits"
   ]
  },
  {
   "cell_type": "code",
   "execution_count": 15,
   "id": "c7793b7b",
   "metadata": {},
   "outputs": [
    {
     "data": {
      "text/plain": [
       "['apple', 'banana', 'smallapple']"
      ]
     },
     "execution_count": 15,
     "metadata": {},
     "output_type": "execute_result"
    }
   ],
   "source": [
    "fruits.append(\"smallapple\")  # Add item in list\n",
    "fruits"
   ]
  },
  {
   "cell_type": "code",
   "execution_count": 16,
   "id": "e1a4cf6e",
   "metadata": {},
   "outputs": [
    {
     "data": {
      "text/plain": [
       "['nango', 'banana', 'smallapple']"
      ]
     },
     "execution_count": 16,
     "metadata": {},
     "output_type": "execute_result"
    }
   ],
   "source": [
    "fruits[0]='nango' # Replace any Item in list\n",
    "fruits"
   ]
  },
  {
   "cell_type": "code",
   "execution_count": 22,
   "id": "8d436dd6",
   "metadata": {},
   "outputs": [
    {
     "data": {
      "text/plain": [
       "['nango', 'kiwi', 'kiwi', 'banana', 'smallapple']"
      ]
     },
     "execution_count": 22,
     "metadata": {},
     "output_type": "execute_result"
    }
   ],
   "source": [
    "fruits.insert(1, \"kiwi\") # Insert item in any specific position in list \n",
    "fruits"
   ]
  },
  {
   "cell_type": "code",
   "execution_count": 9,
   "id": "7561c1ed",
   "metadata": {},
   "outputs": [
    {
     "data": {
      "text/plain": [
       "['cow', 'goat', 'pig', 'elephant', 'bear']"
      ]
     },
     "execution_count": 9,
     "metadata": {},
     "output_type": "execute_result"
    }
   ],
   "source": [
    "animal = [\"cow\",\"goat\",\"pig\",\"elephant\",\"bear\"]\n",
    "animal"
   ]
  },
  {
   "cell_type": "code",
   "execution_count": 3,
   "id": "1238e4fe",
   "metadata": {},
   "outputs": [
    {
     "data": {
      "text/plain": [
       "['cow', 'goat', 'pig', 'elephant', 'bear', 'tiger', 'lion']"
      ]
     },
     "execution_count": 3,
     "metadata": {},
     "output_type": "execute_result"
    }
   ],
   "source": [
    "animal.extend([\"tiger\",\"lion\"]) #Add multiple item in a list\n",
    "animal"
   ]
  },
  {
   "cell_type": "code",
   "execution_count": 4,
   "id": "880a097b",
   "metadata": {},
   "outputs": [
    {
     "data": {
      "text/plain": [
       "['cow', 'goat', ['dog', 'cat'], 'pig', 'elephant', 'bear', 'tiger', 'lion']"
      ]
     },
     "execution_count": 4,
     "metadata": {},
     "output_type": "execute_result"
    }
   ],
   "source": [
    "animal.insert(2,[\"dog\",\"cat\"]) #Add multiple item in a specific position in a list\n",
    "animal"
   ]
  },
  {
   "cell_type": "code",
   "execution_count": 11,
   "id": "33e2c9a1",
   "metadata": {},
   "outputs": [
    {
     "data": {
      "text/plain": [
       "['cow', 'goat', 'pig', 'elephant']"
      ]
     },
     "execution_count": 11,
     "metadata": {},
     "output_type": "execute_result"
    }
   ],
   "source": [
    "animal.remove('bear')\n",
    "animal"
   ]
  },
  {
   "cell_type": "code",
   "execution_count": 12,
   "id": "4483ce53",
   "metadata": {},
   "outputs": [
    {
     "data": {
      "text/plain": [
       "'pig'"
      ]
     },
     "execution_count": 12,
     "metadata": {},
     "output_type": "execute_result"
    }
   ],
   "source": [
    "first_animal = animal.pop(2)\n",
    "first_animal"
   ]
  },
  {
   "cell_type": "code",
   "execution_count": 15,
   "id": "5dcfefef",
   "metadata": {},
   "outputs": [
    {
     "data": {
      "text/plain": [
       "'goat'"
      ]
     },
     "execution_count": 15,
     "metadata": {},
     "output_type": "execute_result"
    }
   ],
   "source": [
    "last_animal = animal.pop(1)\n",
    "last_animal"
   ]
  },
  {
   "cell_type": "code",
   "execution_count": 16,
   "id": "ed9c4127",
   "metadata": {},
   "outputs": [
    {
     "data": {
      "text/plain": [
       "[]"
      ]
     },
     "execution_count": 16,
     "metadata": {},
     "output_type": "execute_result"
    }
   ],
   "source": [
    "animal.clear()\n",
    "animal"
   ]
  },
  {
   "cell_type": "code",
   "execution_count": 18,
   "id": "404664cc",
   "metadata": {},
   "outputs": [
    {
     "data": {
      "text/plain": [
       "9"
      ]
     },
     "execution_count": 18,
     "metadata": {},
     "output_type": "execute_result"
    }
   ],
   "source": [
    "n = [2,5,7,9,1,0,3,2,9]\n",
    "len(n)"
   ]
  },
  {
   "cell_type": "code",
   "execution_count": 19,
   "id": "8aaca9f5",
   "metadata": {},
   "outputs": [
    {
     "data": {
      "text/plain": [
       "2"
      ]
     },
     "execution_count": 19,
     "metadata": {},
     "output_type": "execute_result"
    }
   ],
   "source": [
    "n.count(9)"
   ]
  },
  {
   "cell_type": "code",
   "execution_count": 20,
   "id": "0ac873a6",
   "metadata": {},
   "outputs": [
    {
     "data": {
      "text/plain": [
       "2"
      ]
     },
     "execution_count": 20,
     "metadata": {},
     "output_type": "execute_result"
    }
   ],
   "source": [
    "n.index(7)"
   ]
  },
  {
   "cell_type": "code",
   "execution_count": 24,
   "id": "54783955",
   "metadata": {},
   "outputs": [
    {
     "data": {
      "text/plain": [
       "[0, 1, 2, 2, 3, 5, 7, 9, 9]"
      ]
     },
     "execution_count": 24,
     "metadata": {},
     "output_type": "execute_result"
    }
   ],
   "source": [
    "n.sort()\n",
    "n"
   ]
  },
  {
   "cell_type": "code",
   "execution_count": 25,
   "id": "b1129ce6",
   "metadata": {},
   "outputs": [
    {
     "data": {
      "text/plain": [
       "[9, 9, 7, 5, 3, 2, 2, 1, 0]"
      ]
     },
     "execution_count": 25,
     "metadata": {},
     "output_type": "execute_result"
    }
   ],
   "source": [
    "n.reverse()\n",
    "n"
   ]
  },
  {
   "cell_type": "code",
   "execution_count": 26,
   "id": "107248a1",
   "metadata": {},
   "outputs": [
    {
     "data": {
      "text/plain": [
       "True"
      ]
     },
     "execution_count": 26,
     "metadata": {},
     "output_type": "execute_result"
    }
   ],
   "source": [
    "3 in n"
   ]
  },
  {
   "cell_type": "code",
   "execution_count": 27,
   "id": "1d146847",
   "metadata": {},
   "outputs": [
    {
     "data": {
      "text/plain": [
       "False"
      ]
     },
     "execution_count": 27,
     "metadata": {},
     "output_type": "execute_result"
    }
   ],
   "source": [
    "8 in n"
   ]
  },
  {
   "cell_type": "code",
   "execution_count": null,
   "id": "54cd7dde",
   "metadata": {},
   "outputs": [],
   "source": []
  }
 ],
 "metadata": {
  "kernelspec": {
   "display_name": "base",
   "language": "python",
   "name": "python3"
  },
  "language_info": {
   "codemirror_mode": {
    "name": "ipython",
    "version": 3
   },
   "file_extension": ".py",
   "mimetype": "text/x-python",
   "name": "python",
   "nbconvert_exporter": "python",
   "pygments_lexer": "ipython3",
   "version": "3.13.5"
  }
 },
 "nbformat": 4,
 "nbformat_minor": 5
}
