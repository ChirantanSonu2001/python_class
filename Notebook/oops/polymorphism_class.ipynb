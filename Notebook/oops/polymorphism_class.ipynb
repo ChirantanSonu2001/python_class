{
 "cells": [
  {
   "cell_type": "markdown",
   "id": "aec53b87",
   "metadata": {},
   "source": [
    "# Polymorphism"
   ]
  },
  {
   "cell_type": "markdown",
   "id": "82d97b36",
   "metadata": {},
   "source": []
  },
  {
   "cell_type": "code",
   "execution_count": 4,
   "id": "0a74cabe",
   "metadata": {},
   "outputs": [
    {
     "name": "stdout",
     "output_type": "stream",
     "text": [
      "15\n",
      "Hii there\n",
      "[1, 2, 3, 4]\n"
     ]
    }
   ],
   "source": [
    "def add(a,b):\n",
    "  return a+b\n",
    "\n",
    "print(add(10,5))\n",
    "print(add(\"Hii\",\" there\"))\n",
    "print(add([1,2],[3,4]))"
   ]
  },
  {
   "cell_type": "code",
   "execution_count": 8,
   "id": "abc4da86",
   "metadata": {},
   "outputs": [],
   "source": [
    "# polymorphism with class method\n",
    "\n",
    "# Different classes can have the same method name , but behave differently\n",
    "\n",
    "class Dog:\n",
    "  def sound(self):\n",
    "    return \"Woof\"\n",
    "  \n",
    "class Cat:\n",
    "  def sound(self):\n",
    "    return \"Meow\""
   ]
  },
  {
   "cell_type": "code",
   "execution_count": 6,
   "id": "829e55bf",
   "metadata": {},
   "outputs": [],
   "source": [
    "a1 = Dog()\n",
    "b1 = Cat()"
   ]
  },
  {
   "cell_type": "code",
   "execution_count": 9,
   "id": "c7d6b29c",
   "metadata": {},
   "outputs": [
    {
     "data": {
      "text/plain": [
       "'Woof'"
      ]
     },
     "execution_count": 9,
     "metadata": {},
     "output_type": "execute_result"
    }
   ],
   "source": [
    "a1.sound()"
   ]
  },
  {
   "cell_type": "code",
   "execution_count": 10,
   "id": "9fd96642",
   "metadata": {},
   "outputs": [
    {
     "data": {
      "text/plain": [
       "'Meow'"
      ]
     },
     "execution_count": 10,
     "metadata": {},
     "output_type": "execute_result"
    }
   ],
   "source": [
    "b1.sound()"
   ]
  },
  {
   "cell_type": "markdown",
   "id": "177172e2",
   "metadata": {},
   "source": [
    "# # Method Overriding"
   ]
  },
  {
   "cell_type": "markdown",
   "id": "10e1d6ae",
   "metadata": {},
   "source": []
  },
  {
   "cell_type": "code",
   "execution_count": 13,
   "id": "f89a5357",
   "metadata": {},
   "outputs": [],
   "source": [
    "# polymorphism with inheritance\n",
    "\n",
    "class Vehicle:\n",
    "  def speed(self):\n",
    "    return \"Vehicle can go\"\n",
    "  \n",
    "class Car(Vehicle):\n",
    "  def speed(self):\n",
    "    return \"Car runs at 120 km/h\"\n",
    "  \n",
    "class Bike(Vehicle):\n",
    "  def speed(self):\n",
    "    return \"Bike runs at 50 km/h\"\n",
    "  "
   ]
  },
  {
   "cell_type": "code",
   "execution_count": 14,
   "id": "4ce8e5dc",
   "metadata": {},
   "outputs": [],
   "source": [
    "v= Vehicle()\n",
    "c= Car()\n",
    "b= Bike()"
   ]
  },
  {
   "cell_type": "code",
   "execution_count": 15,
   "id": "12c72d6e",
   "metadata": {},
   "outputs": [
    {
     "data": {
      "text/plain": [
       "'Vehicle can go'"
      ]
     },
     "execution_count": 15,
     "metadata": {},
     "output_type": "execute_result"
    }
   ],
   "source": [
    "v.speed()"
   ]
  },
  {
   "cell_type": "code",
   "execution_count": 16,
   "id": "a70a3d44",
   "metadata": {},
   "outputs": [
    {
     "data": {
      "text/plain": [
       "'Car runs at 120 km/h'"
      ]
     },
     "execution_count": 16,
     "metadata": {},
     "output_type": "execute_result"
    }
   ],
   "source": [
    "c.speed()"
   ]
  },
  {
   "cell_type": "code",
   "execution_count": 17,
   "id": "915c3872",
   "metadata": {},
   "outputs": [
    {
     "data": {
      "text/plain": [
       "'Bike runs at 50 km/h'"
      ]
     },
     "execution_count": 17,
     "metadata": {},
     "output_type": "execute_result"
    }
   ],
   "source": [
    "b.speed()"
   ]
  },
  {
   "cell_type": "code",
   "execution_count": null,
   "id": "c66b31b4",
   "metadata": {},
   "outputs": [],
   "source": []
  },
  {
   "cell_type": "markdown",
   "id": "6a11b68b",
   "metadata": {},
   "source": [
    "# Method Overloading"
   ]
  },
  {
   "cell_type": "markdown",
   "id": "2d58b617",
   "metadata": {},
   "source": []
  },
  {
   "cell_type": "code",
   "execution_count": 30,
   "id": "c2d8b68d",
   "metadata": {},
   "outputs": [],
   "source": [
    "# Method overloading = same method name but different number of parameters or types of parameters\n",
    "\n",
    "\n",
    "class Example:\n",
    "  def show(self,a):\n",
    "    print(a)\n",
    "  \n",
    "  def show(self,a,b=10):\n",
    "    print(a,b)"
   ]
  },
  {
   "cell_type": "code",
   "execution_count": 31,
   "id": "98457fbd",
   "metadata": {},
   "outputs": [],
   "source": [
    "a1 = Example()"
   ]
  },
  {
   "cell_type": "code",
   "execution_count": 29,
   "id": "abfef9b1",
   "metadata": {},
   "outputs": [
    {
     "name": "stdout",
     "output_type": "stream",
     "text": [
      "10 20\n"
     ]
    }
   ],
   "source": [
    "a1.show(10,20)"
   ]
  },
  {
   "cell_type": "code",
   "execution_count": 32,
   "id": "78010676",
   "metadata": {},
   "outputs": [
    {
     "name": "stdout",
     "output_type": "stream",
     "text": [
      "10 10\n"
     ]
    }
   ],
   "source": [
    "a1.show(10)"
   ]
  },
  {
   "cell_type": "markdown",
   "id": "90d378cc",
   "metadata": {},
   "source": [
    "# Operator Overloading"
   ]
  },
  {
   "cell_type": "code",
   "execution_count": 40,
   "id": "83228355",
   "metadata": {},
   "outputs": [],
   "source": [
    "class CustList:\n",
    "  def __init__(self,data):\n",
    "    self.data = data\n",
    "\n",
    "  def __add__(self,other):    # Overloading + # Add element.wise (zip stops at shortcut list)\n",
    "    return CustList([a+b for a,b in zip(self.data,other.data)])\n",
    "  def __str__(self):\n",
    "    return str(self.data)"
   ]
  },
  {
   "cell_type": "code",
   "execution_count": 41,
   "id": "6856d5ff",
   "metadata": {},
   "outputs": [],
   "source": [
    "# Example usage\n",
    "l1 = CustList([1,2,3])\n",
    "l2 = CustList([4,5,6])"
   ]
  },
  {
   "cell_type": "code",
   "execution_count": 42,
   "id": "40114e4c",
   "metadata": {},
   "outputs": [
    {
     "name": "stdout",
     "output_type": "stream",
     "text": [
      "[5, 7, 9]\n"
     ]
    }
   ],
   "source": [
    "print(l1+l2)"
   ]
  },
  {
   "cell_type": "code",
   "execution_count": 43,
   "id": "6489ccd4",
   "metadata": {},
   "outputs": [
    {
     "name": "stdout",
     "output_type": "stream",
     "text": [
      "<class '__main__.CustList'>\n"
     ]
    }
   ],
   "source": [
    "print(type(l1))"
   ]
  },
  {
   "cell_type": "code",
   "execution_count": null,
   "id": "be0f6685",
   "metadata": {},
   "outputs": [],
   "source": []
  },
  {
   "cell_type": "code",
   "execution_count": 44,
   "id": "9ccdb178",
   "metadata": {},
   "outputs": [],
   "source": [
    "# Substraction\n",
    "\n",
    "class CustList1:\n",
    "  def __init__(self,data):\n",
    "    self.data = data\n",
    "\n",
    "  def __sub__(self,other):    # Overloading + # Add element.wise (zip stops at shortcut list)\n",
    "    return CustList([a-b for a,b in zip(self.data,other.data)])\n",
    "  def __str__(self):\n",
    "    return str(self.data)"
   ]
  },
  {
   "cell_type": "code",
   "execution_count": 47,
   "id": "c0958438",
   "metadata": {},
   "outputs": [],
   "source": [
    "# Example usage\n",
    "l1 = CustList1([10,20,30])\n",
    "l2 = CustList1([40,50,60])"
   ]
  },
  {
   "cell_type": "code",
   "execution_count": 48,
   "id": "c1ca0452",
   "metadata": {},
   "outputs": [
    {
     "name": "stdout",
     "output_type": "stream",
     "text": [
      "[-30, -30, -30]\n"
     ]
    }
   ],
   "source": [
    "print(l1-l2)"
   ]
  },
  {
   "cell_type": "code",
   "execution_count": null,
   "id": "00fedfa8",
   "metadata": {},
   "outputs": [],
   "source": []
  },
  {
   "cell_type": "code",
   "execution_count": 50,
   "id": "9363be24",
   "metadata": {},
   "outputs": [
    {
     "name": "stdout",
     "output_type": "stream",
     "text": [
      "False\n",
      "True\n"
     ]
    }
   ],
   "source": [
    "class Students:\n",
    "  def __init__(self,marks):\n",
    "    self.marks =marks\n",
    "\n",
    "  def __gt__(self,other):\n",
    "    return self.marks > other.marks\n",
    "  \n",
    "s1 = Students(76)\n",
    "s2 = Students(98)\n",
    "\n",
    "print (s1>s2)\n",
    "print (s2>s1)"
   ]
  },
  {
   "cell_type": "code",
   "execution_count": null,
   "id": "0f46135f",
   "metadata": {},
   "outputs": [],
   "source": []
  }
 ],
 "metadata": {
  "kernelspec": {
   "display_name": "base",
   "language": "python",
   "name": "python3"
  },
  "language_info": {
   "codemirror_mode": {
    "name": "ipython",
    "version": 3
   },
   "file_extension": ".py",
   "mimetype": "text/x-python",
   "name": "python",
   "nbconvert_exporter": "python",
   "pygments_lexer": "ipython3",
   "version": "3.13.5"
  }
 },
 "nbformat": 4,
 "nbformat_minor": 5
}
