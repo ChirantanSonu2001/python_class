{
 "cells": [
  {
   "cell_type": "markdown",
   "id": "739d1192",
   "metadata": {},
   "source": []
  },
  {
   "cell_type": "markdown",
   "id": "87168cd2",
   "metadata": {},
   "source": []
  },
  {
   "cell_type": "markdown",
   "id": "3281763d",
   "metadata": {},
   "source": [
    "# pattern printing\n",
    "# print the following pattern using for loops\n",
    "\n",
    "*\n",
    "**\n",
    "***\n",
    "****\n",
    "*****\n",
    "******"
   ]
  },
  {
   "cell_type": "code",
   "execution_count": 1,
   "id": "f08148a1",
   "metadata": {},
   "outputs": [
    {
     "name": "stdout",
     "output_type": "stream",
     "text": [
      "*\n"
     ]
    }
   ],
   "source": [
    "print('*')"
   ]
  },
  {
   "cell_type": "code",
   "execution_count": 7,
   "id": "78bb23f7",
   "metadata": {},
   "outputs": [
    {
     "data": {
      "text/plain": [
       "'**'"
      ]
     },
     "execution_count": 7,
     "metadata": {},
     "output_type": "execute_result"
    }
   ],
   "source": [
    "i*2"
   ]
  },
  {
   "cell_type": "code",
   "execution_count": 8,
   "id": "c2cafff6",
   "metadata": {},
   "outputs": [
    {
     "data": {
      "text/plain": [
       "'****'"
      ]
     },
     "execution_count": 8,
     "metadata": {},
     "output_type": "execute_result"
    }
   ],
   "source": [
    "i*4"
   ]
  },
  {
   "cell_type": "code",
   "execution_count": 10,
   "id": "0c8b622d",
   "metadata": {},
   "outputs": [
    {
     "name": "stdout",
     "output_type": "stream",
     "text": [
      " *\n",
      " * *\n",
      " * * *\n",
      " * * * *\n",
      " * * * * *\n",
      " * * * * * *\n"
     ]
    }
   ],
   "source": [
    "i=' *'\n",
    "\n",
    "m=1\n",
    "while m<7:\n",
    "  print(i*m)\n",
    "  m=m+1"
   ]
  },
  {
   "cell_type": "raw",
   "id": "91594bb8",
   "metadata": {
    "vscode": {
     "languageId": "raw"
    }
   },
   "source": [
    "# print this pattern\n",
    "\n",
    "*****\n",
    "****\n",
    "***\n",
    "**\n",
    "*"
   ]
  },
  {
   "cell_type": "code",
   "execution_count": 12,
   "id": "ed01151d",
   "metadata": {},
   "outputs": [
    {
     "name": "stdout",
     "output_type": "stream",
     "text": [
      " * * * * *\n",
      " * * * *\n",
      " * * *\n",
      " * *\n",
      " *\n",
      "\n"
     ]
    }
   ],
   "source": [
    "i =' *'\n",
    "m=5\n",
    "\n",
    "while m>=0 and m<=5:\n",
    "  print(i*m)\n",
    "  m=m-1"
   ]
  },
  {
   "cell_type": "markdown",
   "id": "72867775",
   "metadata": {},
   "source": [
    "OR"
   ]
  },
  {
   "cell_type": "code",
   "execution_count": 16,
   "id": "fb98d187",
   "metadata": {},
   "outputs": [
    {
     "name": "stdout",
     "output_type": "stream",
     "text": [
      " * * * * *\n",
      " * * * *\n",
      " * * *\n",
      " * *\n",
      " *\n",
      "\n"
     ]
    }
   ],
   "source": [
    "i= ' *'\n",
    "m=5\n",
    "\n",
    "while m<=5:\n",
    "  print(i*m)\n",
    "  if m<1:\n",
    "    break\n",
    "   \n",
    "  m=m-1"
   ]
  },
  {
   "cell_type": "code",
   "execution_count": 17,
   "id": "ca48ac6d",
   "metadata": {},
   "outputs": [],
   "source": [
    "# Reverse the list\n",
    "x = [1,3,9,4,83,22,11]"
   ]
  },
  {
   "cell_type": "code",
   "execution_count": null,
   "id": "6b9debfb",
   "metadata": {},
   "outputs": [],
   "source": []
  },
  {
   "cell_type": "raw",
   "id": "49a3fd9d",
   "metadata": {},
   "source": []
  }
 ],
 "metadata": {
  "kernelspec": {
   "display_name": "base",
   "language": "python",
   "name": "python3"
  },
  "language_info": {
   "codemirror_mode": {
    "name": "ipython",
    "version": 3
   },
   "file_extension": ".py",
   "mimetype": "text/x-python",
   "name": "python",
   "nbconvert_exporter": "python",
   "pygments_lexer": "ipython3",
   "version": "3.13.5"
  }
 },
 "nbformat": 4,
 "nbformat_minor": 5
}
