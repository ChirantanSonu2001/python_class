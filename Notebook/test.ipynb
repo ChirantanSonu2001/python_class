{
 "cells": [
  {
   "cell_type": "markdown",
   "id": "3a3131f7",
   "metadata": {},
   "source": [
    "# Variable In Python"
   ]
  },
  {
   "cell_type": "code",
   "execution_count": 2,
   "id": "1aefe81d",
   "metadata": {},
   "outputs": [],
   "source": [
    "# Shift + Enter\n",
    "# Variable in Python "
   ]
  },
  {
   "cell_type": "code",
   "execution_count": 3,
   "id": "6ad5509c",
   "metadata": {},
   "outputs": [],
   "source": [
    "# kjhaoifasja"
   ]
  },
  {
   "cell_type": "code",
   "execution_count": 4,
   "id": "55f7c160",
   "metadata": {
    "vscode": {
     "languageId": "shellscript"
    }
   },
   "outputs": [
    {
     "name": "stdout",
     "output_type": "stream",
     "text": [
      " Volume in drive D is New Volume\n",
      " Volume Serial Number is EEDA-117E\n",
      "\n",
      " Directory of d:\\HYDERABAD\\Data Science & GenAi\\python_class\\Notebook\n",
      "\n",
      "17-08-2025  21:53    <DIR>          .\n",
      "17-08-2025  21:53    <DIR>          ..\n",
      "17-08-2025  22:38             1,114 test.ipynb\n",
      "               1 File(s)          1,114 bytes\n",
      "               2 Dir(s)  42,613,690,368 bytes free\n"
     ]
    }
   ],
   "source": [
    "ls"
   ]
  },
  {
   "cell_type": "code",
   "execution_count": 1,
   "id": "b9c9be6c",
   "metadata": {
    "vscode": {
     "languageId": "shellscript"
    }
   },
   "outputs": [],
   "source": [
    "name=input(\"Enter Your Name \")"
   ]
  },
  {
   "cell_type": "code",
   "execution_count": 4,
   "id": "2c0c71a3",
   "metadata": {
    "vscode": {
     "languageId": "shellscript"
    }
   },
   "outputs": [
    {
     "data": {
      "text/plain": [
       "'sonu'"
      ]
     },
     "execution_count": 4,
     "metadata": {},
     "output_type": "execute_result"
    }
   ],
   "source": [
    "name"
   ]
  },
  {
   "cell_type": "code",
   "execution_count": 23,
   "id": "97d2c902",
   "metadata": {
    "vscode": {
     "languageId": "shellscript"
    }
   },
   "outputs": [
    {
     "data": {
      "text/plain": [
       "'20'"
      ]
     },
     "execution_count": 23,
     "metadata": {},
     "output_type": "execute_result"
    }
   ],
   "source": [
    "age =input(\"Enter your current age\")\n",
    "age"
   ]
  },
  {
   "cell_type": "code",
   "execution_count": 15,
   "id": "3ca79c11",
   "metadata": {
    "vscode": {
     "languageId": "shellscript"
    }
   },
   "outputs": [
    {
     "data": {
      "text/plain": [
       "str"
      ]
     },
     "execution_count": 15,
     "metadata": {},
     "output_type": "execute_result"
    }
   ],
   "source": [
    "type(age)"
   ]
  },
  {
   "cell_type": "code",
   "execution_count": 27,
   "id": "403a7621",
   "metadata": {
    "vscode": {
     "languageId": "shellscript"
    }
   },
   "outputs": [
    {
     "data": {
      "text/plain": [
       "60000"
      ]
     },
     "execution_count": 27,
     "metadata": {},
     "output_type": "execute_result"
    }
   ],
   "source": [
    "yearly_saving =3000\n",
    "total_saving = int(age)*yearly_saving\n",
    "total_saving"
   ]
  },
  {
   "cell_type": "code",
   "execution_count": 9,
   "id": "578def99",
   "metadata": {},
   "outputs": [
    {
     "data": {
      "text/plain": [
       "'India India India '"
      ]
     },
     "execution_count": 9,
     "metadata": {},
     "output_type": "execute_result"
    }
   ],
   "source": [
    "a= \"India \"\n",
    "b=\"USA \"\n",
    "c= a*3\n",
    "c"
   ]
  },
  {
   "cell_type": "code",
   "execution_count": 11,
   "id": "233359ca",
   "metadata": {},
   "outputs": [
    {
     "data": {
      "text/plain": [
       "'India USA '"
      ]
     },
     "execution_count": 11,
     "metadata": {},
     "output_type": "execute_result"
    }
   ],
   "source": [
    "d=a+b\n",
    "d"
   ]
  },
  {
   "cell_type": "code",
   "execution_count": 15,
   "id": "a8c7eba3",
   "metadata": {},
   "outputs": [],
   "source": [
    "age= 200\n",
    "name = \"Sonu\""
   ]
  },
  {
   "cell_type": "code",
   "execution_count": 17,
   "id": "66a784ac",
   "metadata": {},
   "outputs": [
    {
     "data": {
      "text/plain": [
       "'Hi My Name is Sonu and My Age is 200'"
      ]
     },
     "execution_count": 17,
     "metadata": {},
     "output_type": "execute_result"
    }
   ],
   "source": [
    "f\"Hi My Name is {name} and My Age is {age}\""
   ]
  },
  {
   "cell_type": "code",
   "execution_count": 19,
   "id": "56e57cb2",
   "metadata": {},
   "outputs": [
    {
     "name": "stdout",
     "output_type": "stream",
     "text": [
      "Hi Suman, How are You !\n"
     ]
    }
   ],
   "source": [
    "name = input(\"Enter Your name\")\n",
    "print(f\"Hi {name}, How are You !\")"
   ]
  },
  {
   "cell_type": "code",
   "execution_count": 21,
   "id": "a37c862e",
   "metadata": {},
   "outputs": [
    {
     "name": "stdout",
     "output_type": "stream",
     "text": [
      "Hi My name is kartick, My qualification is MCA, I stay in Hyd\n"
     ]
    }
   ],
   "source": [
    "name = input(\"Enter name\")\n",
    "qualification = input(\"Enter qualification\")\n",
    "location = input(\"Enter Your location\")\n",
    "print(f\"Hi My name is {name}, My qualification is {qualification}, I stay in {location}\")"
   ]
  },
  {
   "cell_type": "code",
   "execution_count": 4,
   "id": "f6498ba2",
   "metadata": {},
   "outputs": [],
   "source": [
    "from langchain_ollama import ChatOllama"
   ]
  },
  {
   "cell_type": "code",
   "execution_count": 5,
   "id": "936372e4",
   "metadata": {},
   "outputs": [
    {
     "name": "stdout",
     "output_type": "stream",
     "text": [
      "NAME         ID              SIZE      MODIFIED       \n",
      "gemma3:1b    8648f39daa8f    815 MB    44 minutes ago    \n"
     ]
    }
   ],
   "source": [
    "!ollama list"
   ]
  },
  {
   "cell_type": "code",
   "execution_count": 6,
   "id": "518a0d19",
   "metadata": {},
   "outputs": [],
   "source": [
    "llm = ChatOllama(\n",
    "    model=\"gemma3:1b\",\n",
    "    temperature=0,\n",
    "    # other params...\n",
    ")"
   ]
  },
  {
   "cell_type": "code",
   "execution_count": 7,
   "id": "f19455ab",
   "metadata": {},
   "outputs": [
    {
     "data": {
      "text/plain": [
       "AIMessage(content='Okay, let\\'s break down Newton\\'s Third Law of Motion. It\\'s a fundamental concept in physics, and it\\'s surprisingly simple to understand.\\n\\n**Newton\\'s Third Law of Motion: \"For every action, there is an equal and opposite reaction.\"**\\n\\n**Here\\'s a breakdown of what it means:**\\n\\n* **Action:** This is the force that one object exerts on another.\\n* **Reaction:** This is the force that the other object exerts back on the first object.\\n\\n**Let\\'s illustrate with examples:**\\n\\n1. **Pushing a Box:** When you push a box across the floor, you\\'re applying an *action*. The box moves *because* of your push.  At the *same time*, the box exerts an *equal and opposite reaction* pushing back on you, causing you to move too.\\n\\n2. **Rocket Launch:**  A rocket expels hot gases downward.  This downward force is the *action*.  The gases exert an equal and opposite upward force on the rocket, propelling it upward.\\n\\n3. **Walking:** When you walk, you push backward on the ground with your feet. The ground then pushes forward on your feet, propelling you forward.\\n\\n4. **Swimming:**  You push water backward with your hands and feet. The water pushes you forward.\\n\\n**Key Points to Remember:**\\n\\n* **Equal and Opposite:** The forces are *equal* in magnitude (strength), but *opposite* in direction. This is crucial.\\n* **Not a Communication:** It\\'s not like one object is \"telling\" the other what to do. It\\'s a fundamental interaction where the forces are linked.\\n* **Constant Force:** The forces always act together and always have the same magnitude.\\n\\n**Why is it important?**\\n\\nNewton\\'s Third Law is *the* foundation for understanding many other laws of motion. It explains how objects interact and how forces propagate.  It\\'s a cornerstone of classical mechanics – the physics that describes the motion of objects under relatively slow speeds and large distances.\\n\\n**Resources for Further Learning:**\\n\\n* **YouTube:** [https://m.youtube.com/watch?v=J9w-vQ-9-8Q](https://m.youtube.com/watch?v=J9w-vQ-9-8Q) - A great animated explanation.\\n* **Khan Academy:** [https://www.khanacademy.org/science/physics/kinematics](https://www.khanacademy.org/science/physics/kinematics) - Has a good, clear explanation.\\n\\n---\\n\\nDo you have any specific questions about Newton\\'s Third Law that you\\'d like me to answer? For example, would you like to know:\\n\\n*   How it applies to different types of forces?\\n*   How it relates to momentum?', additional_kwargs={}, response_metadata={'model': 'gemma3:1b', 'created_at': '2025-08-19T20:24:40.1980493Z', 'done': True, 'done_reason': 'stop', 'total_duration': 59277135900, 'load_duration': 3470106400, 'prompt_eval_count': 17, 'prompt_eval_duration': 446287300, 'eval_count': 602, 'eval_duration': 55349665800, 'model_name': 'gemma3:1b'}, id='run--38aed946-4343-44cf-b23b-6c647a4cf651-0', usage_metadata={'input_tokens': 17, 'output_tokens': 602, 'total_tokens': 619})"
      ]
     },
     "execution_count": 7,
     "metadata": {},
     "output_type": "execute_result"
    }
   ],
   "source": [
    "response = llm.invoke(\"what is newtons 3rd low\")\n",
    "response"
   ]
  },
  {
   "cell_type": "code",
   "execution_count": 9,
   "id": "e7f742b8",
   "metadata": {},
   "outputs": [
    {
     "name": "stdout",
     "output_type": "stream",
     "text": [
      "Okay, let's break down Newton's Third Law of Motion. It's a fundamental concept in physics, and it's surprisingly simple to understand.\n",
      "\n",
      "**Newton's Third Law of Motion: \"For every action, there is an equal and opposite reaction.\"**\n",
      "\n",
      "**Here's a breakdown of what it means:**\n",
      "\n",
      "* **Action:** This is the force that one object exerts on another.\n",
      "* **Reaction:** This is the force that the other object exerts back on the first object.\n",
      "\n",
      "**Let's illustrate with examples:**\n",
      "\n",
      "1. **Pushing a Box:** When you push a box across the floor, you're applying an *action*. The box moves *because* of your push.  At the *same time*, the box exerts an *equal and opposite reaction* pushing back on you, causing you to move too.\n",
      "\n",
      "2. **Rocket Launch:**  A rocket expels hot gases downward.  This downward force is the *action*.  The gases exert an equal and opposite upward force on the rocket, propelling it upward.\n",
      "\n",
      "3. **Walking:** When you walk, you push backward on the ground with your feet. The ground then pushes forward on your feet, propelling you forward.\n",
      "\n",
      "4. **Swimming:**  You push water backward with your hands and feet. The water pushes you forward.\n",
      "\n",
      "**Key Points to Remember:**\n",
      "\n",
      "* **Equal and Opposite:** The forces are *equal* in magnitude (strength), but *opposite* in direction. This is crucial.\n",
      "* **Not a Communication:** It's not like one object is \"telling\" the other what to do. It's a fundamental interaction where the forces are linked.\n",
      "* **Constant Force:** The forces always act together and always have the same magnitude.\n",
      "\n",
      "**Why is it important?**\n",
      "\n",
      "Newton's Third Law is *the* foundation for understanding many other laws of motion. It explains how objects interact and how forces propagate.  It's a cornerstone of classical mechanics – the physics that describes the motion of objects under relatively slow speeds and large distances.\n",
      "\n",
      "**Resources for Further Learning:**\n",
      "\n",
      "* **YouTube:** [https://m.youtube.com/watch?v=J9w-vQ-9-8Q](https://m.youtube.com/watch?v=J9w-vQ-9-8Q) - A great animated explanation.\n",
      "* **Khan Academy:** [https://www.khanacademy.org/science/physics/kinematics](https://www.khanacademy.org/science/physics/kinematics) - Has a good, clear explanation.\n",
      "\n",
      "---\n",
      "\n",
      "Do you have any specific questions about Newton's Third Law that you'd like me to answer? For example, would you like to know:\n",
      "\n",
      "*   How it applies to different types of forces?\n",
      "*   How it relates to momentum?\n"
     ]
    }
   ],
   "source": [
    "print(response.content)"
   ]
  },
  {
   "cell_type": "code",
   "execution_count": null,
   "id": "edbc4bf3",
   "metadata": {},
   "outputs": [],
   "source": [
    "# Convert Cases in String"
   ]
  },
  {
   "cell_type": "code",
   "execution_count": 2,
   "id": "47d1f03f",
   "metadata": {},
   "outputs": [],
   "source": [
    "user_input = \"EXPLAIN PYTHON TO ME\""
   ]
  },
  {
   "cell_type": "code",
   "execution_count": 5,
   "id": "a7ae1345",
   "metadata": {},
   "outputs": [
    {
     "name": "stdout",
     "output_type": "stream",
     "text": [
      "explain python to me\n"
     ]
    }
   ],
   "source": [
    "print(user_input.lower())    # For convert to lower case"
   ]
  },
  {
   "cell_type": "code",
   "execution_count": 7,
   "id": "f3ec1033",
   "metadata": {},
   "outputs": [
    {
     "data": {
      "text/plain": [
       "'Hyderabad Is A Big And Important City Of India '"
      ]
     },
     "execution_count": 7,
     "metadata": {},
     "output_type": "execute_result"
    }
   ],
   "source": [
    "city = \"hyderabad is a big And Important city Of India \"\n",
    "city.title()"
   ]
  },
  {
   "cell_type": "code",
   "execution_count": 8,
   "id": "a2ba104f",
   "metadata": {},
   "outputs": [
    {
     "data": {
      "text/plain": [
       "'My name is chirantan'"
      ]
     },
     "execution_count": 8,
     "metadata": {},
     "output_type": "execute_result"
    }
   ],
   "source": [
    "name = \"my name is Chirantan\"\n",
    "name.capitalize()"
   ]
  },
  {
   "cell_type": "markdown",
   "id": "b842779a",
   "metadata": {},
   "source": [
    "# Remove whitespace"
   ]
  },
  {
   "cell_type": "code",
   "execution_count": 9,
   "id": "baf7ada0",
   "metadata": {},
   "outputs": [],
   "source": [
    "messy_prompt = \"  Explain AI concept  \\n\\t \""
   ]
  },
  {
   "cell_type": "code",
   "execution_count": 10,
   "id": "9266a392",
   "metadata": {},
   "outputs": [
    {
     "data": {
      "text/plain": [
       "'Explain AI concept'"
      ]
     },
     "execution_count": 10,
     "metadata": {},
     "output_type": "execute_result"
    }
   ],
   "source": [
    "clean_prompt = messy_prompt.strip()\n",
    "clean_prompt"
   ]
  },
  {
   "cell_type": "code",
   "execution_count": 11,
   "id": "d9f12e40",
   "metadata": {},
   "outputs": [
    {
     "data": {
      "text/plain": [
       "'Explain AI concept  \\n\\t '"
      ]
     },
     "execution_count": 11,
     "metadata": {},
     "output_type": "execute_result"
    }
   ],
   "source": [
    "clean_prompt = messy_prompt.lstrip()\n",
    "clean_prompt"
   ]
  },
  {
   "cell_type": "code",
   "execution_count": 12,
   "id": "61447cf8",
   "metadata": {},
   "outputs": [
    {
     "data": {
      "text/plain": [
       "'  Explain AI concept'"
      ]
     },
     "execution_count": 12,
     "metadata": {},
     "output_type": "execute_result"
    }
   ],
   "source": [
    "clean_prompt = messy_prompt.rstrip()\n",
    "clean_prompt"
   ]
  },
  {
   "cell_type": "markdown",
   "id": "39aafbe8",
   "metadata": {},
   "source": [
    "# check if text contains something"
   ]
  },
  {
   "cell_type": "code",
   "execution_count": 13,
   "id": "a809d91f",
   "metadata": {},
   "outputs": [],
   "source": [
    "text = \"Python is easy to learn for beginner\""
   ]
  },
  {
   "cell_type": "code",
   "execution_count": 14,
   "id": "ed13ee63",
   "metadata": {},
   "outputs": [
    {
     "data": {
      "text/plain": [
       "True"
      ]
     },
     "execution_count": 14,
     "metadata": {},
     "output_type": "execute_result"
    }
   ],
   "source": [
    "\"Python\" in text"
   ]
  },
  {
   "cell_type": "code",
   "execution_count": 15,
   "id": "50aa962e",
   "metadata": {},
   "outputs": [
    {
     "data": {
      "text/plain": [
       "False"
      ]
     },
     "execution_count": 15,
     "metadata": {},
     "output_type": "execute_result"
    }
   ],
   "source": [
    "\"Javascript\" in text"
   ]
  },
  {
   "cell_type": "code",
   "execution_count": 16,
   "id": "dc13e5af",
   "metadata": {},
   "outputs": [
    {
     "data": {
      "text/plain": [
       "False"
      ]
     },
     "execution_count": 16,
     "metadata": {},
     "output_type": "execute_result"
    }
   ],
   "source": [
    "\"Learn for beginner\" in text"
   ]
  },
  {
   "cell_type": "code",
   "execution_count": 20,
   "id": "4484a3c2",
   "metadata": {},
   "outputs": [
    {
     "data": {
      "text/plain": [
       "True"
      ]
     },
     "execution_count": 20,
     "metadata": {},
     "output_type": "execute_result"
    }
   ],
   "source": [
    "\"python\".capitalize() in text"
   ]
  },
  {
   "cell_type": "markdown",
   "id": "9d341985",
   "metadata": {},
   "source": [
    "# Find Position"
   ]
  },
  {
   "cell_type": "code",
   "execution_count": 21,
   "id": "f5559aed",
   "metadata": {},
   "outputs": [
    {
     "data": {
      "text/plain": [
       "10"
      ]
     },
     "execution_count": 21,
     "metadata": {},
     "output_type": "execute_result"
    }
   ],
   "source": [
    "text.find(\"easy\")"
   ]
  },
  {
   "cell_type": "code",
   "execution_count": 22,
   "id": "debe7b09",
   "metadata": {},
   "outputs": [
    {
     "data": {
      "text/plain": [
       "-1"
      ]
     },
     "execution_count": 22,
     "metadata": {},
     "output_type": "execute_result"
    }
   ],
   "source": [
    "text.find(\"machine\")"
   ]
  },
  {
   "cell_type": "markdown",
   "id": "a77edbca",
   "metadata": {},
   "source": [
    "# Count"
   ]
  },
  {
   "cell_type": "code",
   "execution_count": 24,
   "id": "3af4b898",
   "metadata": {},
   "outputs": [
    {
     "data": {
      "text/plain": [
       "4"
      ]
     },
     "execution_count": 24,
     "metadata": {},
     "output_type": "execute_result"
    }
   ],
   "source": [
    "text.count(\"n\")"
   ]
  },
  {
   "cell_type": "code",
   "execution_count": 26,
   "id": "fb6b3e8a",
   "metadata": {},
   "outputs": [
    {
     "data": {
      "text/plain": [
       "True"
      ]
     },
     "execution_count": 26,
     "metadata": {},
     "output_type": "execute_result"
    }
   ],
   "source": [
    "text.startswith(\"Python\")"
   ]
  },
  {
   "cell_type": "code",
   "execution_count": 27,
   "id": "d232b2f9",
   "metadata": {},
   "outputs": [
    {
     "data": {
      "text/plain": [
       "True"
      ]
     },
     "execution_count": 27,
     "metadata": {},
     "output_type": "execute_result"
    }
   ],
   "source": [
    "text.endswith(\"beginner\")"
   ]
  },
  {
   "cell_type": "code",
   "execution_count": 1,
   "id": "7198349d",
   "metadata": {},
   "outputs": [],
   "source": [
    " words = [\"AI\" , \"is\" , \"transforming\", \"technology\"]"
   ]
  },
  {
   "cell_type": "code",
   "execution_count": 2,
   "id": "b501043c",
   "metadata": {},
   "outputs": [
    {
     "data": {
      "text/plain": [
       "'AI is transforming technology'"
      ]
     },
     "execution_count": 2,
     "metadata": {},
     "output_type": "execute_result"
    }
   ],
   "source": [
    "sentence = \" \".join(words)\n",
    "sentence"
   ]
  },
  {
   "cell_type": "code",
   "execution_count": 3,
   "id": "904feb22",
   "metadata": {},
   "outputs": [
    {
     "data": {
      "text/plain": [
       "'AIistransformingtechnology'"
      ]
     },
     "execution_count": 3,
     "metadata": {},
     "output_type": "execute_result"
    }
   ],
   "source": [
    "sentence = \"\".join(words)\n",
    "sentence"
   ]
  },
  {
   "cell_type": "code",
   "execution_count": 4,
   "id": "3072d449",
   "metadata": {},
   "outputs": [
    {
     "data": {
      "text/plain": [
       "'AI-is-transforming-technology'"
      ]
     },
     "execution_count": 4,
     "metadata": {},
     "output_type": "execute_result"
    }
   ],
   "source": [
    "sentence = \"-\".join(words)\n",
    "sentence"
   ]
  },
  {
   "cell_type": "code",
   "execution_count": 5,
   "id": "a2868192",
   "metadata": {},
   "outputs": [
    {
     "data": {
      "text/plain": [
       "\"AI''is''transforming''technology\""
      ]
     },
     "execution_count": 5,
     "metadata": {},
     "output_type": "execute_result"
    }
   ],
   "source": [
    "sentence = \"''\".join(words)\n",
    "sentence"
   ]
  },
  {
   "cell_type": "code",
   "execution_count": null,
   "id": "faf92f0e",
   "metadata": {},
   "outputs": [],
   "source": []
  }
 ],
 "metadata": {
  "kernelspec": {
   "display_name": "base",
   "language": "python",
   "name": "python3"
  },
  "language_info": {
   "codemirror_mode": {
    "name": "ipython",
    "version": 3
   },
   "file_extension": ".py",
   "mimetype": "text/x-python",
   "name": "python",
   "nbconvert_exporter": "python",
   "pygments_lexer": "ipython3",
   "version": "3.13.5"
  }
 },
 "nbformat": 4,
 "nbformat_minor": 5
}
