{
 "cells": [
  {
   "cell_type": "markdown",
   "id": "3a3131f7",
   "metadata": {},
   "source": [
    "# Variable In Python"
   ]
  },
  {
   "cell_type": "code",
   "execution_count": 2,
   "id": "1aefe81d",
   "metadata": {},
   "outputs": [],
   "source": [
    "# Shift + Enter\n",
    "# Variable in Python "
   ]
  },
  {
   "cell_type": "code",
   "execution_count": 3,
   "id": "6ad5509c",
   "metadata": {},
   "outputs": [],
   "source": [
    "# kjhaoifasja"
   ]
  },
  {
   "cell_type": "code",
   "execution_count": 4,
   "id": "55f7c160",
   "metadata": {
    "vscode": {
     "languageId": "shellscript"
    }
   },
   "outputs": [
    {
     "name": "stdout",
     "output_type": "stream",
     "text": [
      " Volume in drive D is New Volume\n",
      " Volume Serial Number is EEDA-117E\n",
      "\n",
      " Directory of d:\\HYDERABAD\\Data Science & GenAi\\python_class\\Notebook\n",
      "\n",
      "17-08-2025  21:53    <DIR>          .\n",
      "17-08-2025  21:53    <DIR>          ..\n",
      "17-08-2025  22:38             1,114 test.ipynb\n",
      "               1 File(s)          1,114 bytes\n",
      "               2 Dir(s)  42,613,690,368 bytes free\n"
     ]
    }
   ],
   "source": [
    "ls"
   ]
  },
  {
   "cell_type": "code",
   "execution_count": 1,
   "id": "b9c9be6c",
   "metadata": {
    "vscode": {
     "languageId": "shellscript"
    }
   },
   "outputs": [],
   "source": [
    "name=input(\"Enter Your Name \")"
   ]
  },
  {
   "cell_type": "code",
   "execution_count": 4,
   "id": "2c0c71a3",
   "metadata": {
    "vscode": {
     "languageId": "shellscript"
    }
   },
   "outputs": [
    {
     "data": {
      "text/plain": [
       "'sonu'"
      ]
     },
     "execution_count": 4,
     "metadata": {},
     "output_type": "execute_result"
    }
   ],
   "source": [
    "name"
   ]
  },
  {
   "cell_type": "code",
   "execution_count": 23,
   "id": "97d2c902",
   "metadata": {
    "vscode": {
     "languageId": "shellscript"
    }
   },
   "outputs": [
    {
     "data": {
      "text/plain": [
       "'20'"
      ]
     },
     "execution_count": 23,
     "metadata": {},
     "output_type": "execute_result"
    }
   ],
   "source": [
    "age =input(\"Enter your current age\")\n",
    "age"
   ]
  },
  {
   "cell_type": "code",
   "execution_count": 15,
   "id": "3ca79c11",
   "metadata": {
    "vscode": {
     "languageId": "shellscript"
    }
   },
   "outputs": [
    {
     "data": {
      "text/plain": [
       "str"
      ]
     },
     "execution_count": 15,
     "metadata": {},
     "output_type": "execute_result"
    }
   ],
   "source": [
    "type(age)"
   ]
  },
  {
   "cell_type": "code",
   "execution_count": 27,
   "id": "403a7621",
   "metadata": {
    "vscode": {
     "languageId": "shellscript"
    }
   },
   "outputs": [
    {
     "data": {
      "text/plain": [
       "60000"
      ]
     },
     "execution_count": 27,
     "metadata": {},
     "output_type": "execute_result"
    }
   ],
   "source": [
    "yearly_saving =3000\n",
    "total_saving = int(age)*yearly_saving\n",
    "total_saving"
   ]
  },
  {
   "cell_type": "code",
   "execution_count": 9,
   "id": "578def99",
   "metadata": {},
   "outputs": [
    {
     "data": {
      "text/plain": [
       "'India India India '"
      ]
     },
     "execution_count": 9,
     "metadata": {},
     "output_type": "execute_result"
    }
   ],
   "source": [
    "a= \"India \"\n",
    "b=\"USA \"\n",
    "c= a*3\n",
    "c"
   ]
  },
  {
   "cell_type": "code",
   "execution_count": 11,
   "id": "233359ca",
   "metadata": {},
   "outputs": [
    {
     "data": {
      "text/plain": [
       "'India USA '"
      ]
     },
     "execution_count": 11,
     "metadata": {},
     "output_type": "execute_result"
    }
   ],
   "source": [
    "d=a+b\n",
    "d"
   ]
  },
  {
   "cell_type": "code",
   "execution_count": 15,
   "id": "a8c7eba3",
   "metadata": {},
   "outputs": [],
   "source": [
    "age= 200\n",
    "name = \"Sonu\""
   ]
  },
  {
   "cell_type": "code",
   "execution_count": 17,
   "id": "66a784ac",
   "metadata": {},
   "outputs": [
    {
     "data": {
      "text/plain": [
       "'Hi My Name is Sonu and My Age is 200'"
      ]
     },
     "execution_count": 17,
     "metadata": {},
     "output_type": "execute_result"
    }
   ],
   "source": [
    "f\"Hi My Name is {name} and My Age is {age}\""
   ]
  },
  {
   "cell_type": "code",
   "execution_count": 19,
   "id": "56e57cb2",
   "metadata": {},
   "outputs": [
    {
     "name": "stdout",
     "output_type": "stream",
     "text": [
      "Hi Suman, How are You !\n"
     ]
    }
   ],
   "source": [
    "name = input(\"Enter Your name\")\n",
    "print(f\"Hi {name}, How are You !\")"
   ]
  },
  {
   "cell_type": "code",
   "execution_count": 21,
   "id": "a37c862e",
   "metadata": {},
   "outputs": [
    {
     "name": "stdout",
     "output_type": "stream",
     "text": [
      "Hi My name is kartick, My qualification is MCA, I stay in Hyd\n"
     ]
    }
   ],
   "source": [
    "name = input(\"Enter name\")\n",
    "qualification = input(\"Enter qualification\")\n",
    "location = input(\"Enter Your location\")\n",
    "print(f\"Hi My name is {name}, My qualification is {qualification}, I stay in {location}\")"
   ]
  },
  {
   "cell_type": "code",
   "execution_count": null,
   "id": "f6498ba2",
   "metadata": {},
   "outputs": [],
   "source": []
  }
 ],
 "metadata": {
  "kernelspec": {
   "display_name": "base",
   "language": "python",
   "name": "python3"
  },
  "language_info": {
   "codemirror_mode": {
    "name": "ipython",
    "version": 3
   },
   "file_extension": ".py",
   "mimetype": "text/x-python",
   "name": "python",
   "nbconvert_exporter": "python",
   "pygments_lexer": "ipython3",
   "version": "3.13.5"
  }
 },
 "nbformat": 4,
 "nbformat_minor": 5
}
