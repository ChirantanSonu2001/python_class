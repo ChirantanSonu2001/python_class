{
 "cells": [
  {
   "cell_type": "markdown",
   "id": "3a3131f7",
   "metadata": {},
   "source": [
    "# Variable In Python"
   ]
  },
  {
   "cell_type": "code",
   "execution_count": 2,
   "id": "1aefe81d",
   "metadata": {},
   "outputs": [],
   "source": [
    "# Shift + Enter\n",
    "# Variable in Python "
   ]
  },
  {
   "cell_type": "code",
   "execution_count": 3,
   "id": "6ad5509c",
   "metadata": {},
   "outputs": [],
   "source": [
    "# kjhaoifasja"
   ]
  },
  {
   "cell_type": "code",
   "execution_count": 4,
   "id": "55f7c160",
   "metadata": {
    "vscode": {
     "languageId": "shellscript"
    }
   },
   "outputs": [
    {
     "name": "stdout",
     "output_type": "stream",
     "text": [
      " Volume in drive D is New Volume\n",
      " Volume Serial Number is EEDA-117E\n",
      "\n",
      " Directory of d:\\HYDERABAD\\Data Science & GenAi\\python_class\\Notebook\n",
      "\n",
      "17-08-2025  21:53    <DIR>          .\n",
      "17-08-2025  21:53    <DIR>          ..\n",
      "17-08-2025  22:38             1,114 test.ipynb\n",
      "               1 File(s)          1,114 bytes\n",
      "               2 Dir(s)  42,613,690,368 bytes free\n"
     ]
    }
   ],
   "source": [
    "ls"
   ]
  },
  {
   "cell_type": "code",
   "execution_count": null,
   "id": "b9c9be6c",
   "metadata": {
    "vscode": {
     "languageId": "shellscript"
    }
   },
   "outputs": [],
   "source": []
  }
 ],
 "metadata": {
  "kernelspec": {
   "display_name": "base",
   "language": "python",
   "name": "python3"
  },
  "language_info": {
   "codemirror_mode": {
    "name": "ipython",
    "version": 3
   },
   "file_extension": ".py",
   "mimetype": "text/x-python",
   "name": "python",
   "nbconvert_exporter": "python",
   "pygments_lexer": "ipython3",
   "version": "3.13.5"
  }
 },
 "nbformat": 4,
 "nbformat_minor": 5
}
