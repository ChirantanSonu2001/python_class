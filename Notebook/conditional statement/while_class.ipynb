{
 "cells": [
  {
   "cell_type": "markdown",
   "id": "41224550",
   "metadata": {},
   "source": [
    "# while loop"
   ]
  },
  {
   "cell_type": "code",
   "execution_count": 3,
   "id": "f1118cd6",
   "metadata": {},
   "outputs": [
    {
     "name": "stdout",
     "output_type": "stream",
     "text": [
      "total sum = 55\n"
     ]
    }
   ],
   "source": [
    "# wap to find the sum of first n numbers (using while)\n",
    "\n",
    "n=10\n",
    "\n",
    "sum= 0\n",
    "i=1\n",
    "\n",
    "while i<=n:\n",
    "      sum +=i\n",
    "      i +=1\n",
    "print(\"total sum =\" ,sum)"
   ]
  },
  {
   "cell_type": "code",
   "execution_count": null,
   "id": "414b78a2",
   "metadata": {},
   "outputs": [],
   "source": []
  }
 ],
 "metadata": {
  "kernelspec": {
   "display_name": "base",
   "language": "python",
   "name": "python3"
  },
  "language_info": {
   "codemirror_mode": {
    "name": "ipython",
    "version": 3
   },
   "file_extension": ".py",
   "mimetype": "text/x-python",
   "name": "python",
   "nbconvert_exporter": "python",
   "pygments_lexer": "ipython3",
   "version": "3.13.5"
  }
 },
 "nbformat": 4,
 "nbformat_minor": 5
}
