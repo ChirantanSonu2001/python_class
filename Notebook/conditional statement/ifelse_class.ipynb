{
 "cells": [
  {
   "cell_type": "markdown",
   "id": "99bebcba",
   "metadata": {},
   "source": [
    "# if else statement"
   ]
  },
  {
   "cell_type": "code",
   "execution_count": null,
   "id": "6140de80",
   "metadata": {},
   "outputs": [
    {
     "name": "stdout",
     "output_type": "stream",
     "text": [
      "Equal\n"
     ]
    }
   ],
   "source": [
    "# Example 1\n",
    "a = 20\n",
    "b = 20\n",
    "\n",
    "if a==b :\n",
    "  print(\"Equal\")\n",
    "elif a>b :\n",
    "  print(\"Greater\")\n",
    "else:\n",
    "  print(\"Less\")"
   ]
  },
  {
   "cell_type": "code",
   "execution_count": 12,
   "id": "22136cb1",
   "metadata": {},
   "outputs": [
    {
     "name": "stdout",
     "output_type": "stream",
     "text": [
      "less\n"
     ]
    }
   ],
   "source": [
    "# Example 2\n",
    "\n",
    "c = int(input(\"Enter c number\"))\n",
    "d = int(input(\"Enter d number\"))\n",
    "\n",
    "if c==d:\n",
    "  print(\"equal\")\n",
    "elif c>d:\n",
    "  print(\"Greater\")\n",
    "else:\n",
    "  print(\"less\")\n"
   ]
  },
  {
   "cell_type": "code",
   "execution_count": 13,
   "id": "db8942d2",
   "metadata": {},
   "outputs": [
    {
     "data": {
      "text/plain": [
       "88"
      ]
     },
     "execution_count": 13,
     "metadata": {},
     "output_type": "execute_result"
    }
   ],
   "source": [
    "c"
   ]
  },
  {
   "cell_type": "code",
   "execution_count": 14,
   "id": "36cb56ca",
   "metadata": {},
   "outputs": [
    {
     "data": {
      "text/plain": [
       "90"
      ]
     },
     "execution_count": 14,
     "metadata": {},
     "output_type": "execute_result"
    }
   ],
   "source": [
    "d"
   ]
  },
  {
   "cell_type": "code",
   "execution_count": 15,
   "id": "5c6f9af9",
   "metadata": {},
   "outputs": [
    {
     "data": {
      "text/plain": [
       "178"
      ]
     },
     "execution_count": 15,
     "metadata": {},
     "output_type": "execute_result"
    }
   ],
   "source": [
    "c+d"
   ]
  },
  {
   "cell_type": "code",
   "execution_count": null,
   "id": "05677839",
   "metadata": {},
   "outputs": [],
   "source": []
  },
  {
   "cell_type": "code",
   "execution_count": null,
   "id": "60de1148",
   "metadata": {},
   "outputs": [],
   "source": []
  },
  {
   "cell_type": "code",
   "execution_count": 5,
   "id": "aa45ca3a",
   "metadata": {},
   "outputs": [
    {
     "name": "stdout",
     "output_type": "stream",
     "text": [
      "You are an adult\n",
      "You can Vote\n",
      "This is always runs regardless of age\n"
     ]
    }
   ],
   "source": [
    "age =20\n",
    "\n",
    "if age >= 18:\n",
    "  print(\"You are an adult\")\n",
    "  print(\"You can Vote\")\n",
    "print(\"This is always runs regardless of age\")\n"
   ]
  },
  {
   "cell_type": "code",
   "execution_count": 7,
   "id": "12a5869f",
   "metadata": {},
   "outputs": [
    {
     "name": "stdout",
     "output_type": "stream",
     "text": [
      "this is invalid\n"
     ]
    }
   ],
   "source": [
    "# password should be greater than or equal to 8 character\n",
    "\n",
    "usr_pswd = \"abcfh\"\n",
    "pswd_len = len(usr_pswd)\n",
    "if pswd_len<8:\n",
    "  print(\"this is invalid\")"
   ]
  },
  {
   "cell_type": "code",
   "execution_count": null,
   "id": "0efbee03",
   "metadata": {},
   "outputs": [],
   "source": [
    "True and True   # True\n",
    "False and True  # False\n",
    "True and False  # False\n",
    "False and False # False"
   ]
  },
  {
   "cell_type": "code",
   "execution_count": 9,
   "id": "a26138b6",
   "metadata": {},
   "outputs": [
    {
     "name": "stdout",
     "output_type": "stream",
     "text": [
      "You cannot drive\n"
     ]
    }
   ],
   "source": [
    "age = 16\n",
    "has_license = True\n",
    "\n",
    "if age >= 18 and has_license:\n",
    "  print(\"You can drive\")\n",
    "else:\n",
    "  print(\"You cannot drive\")"
   ]
  },
  {
   "cell_type": "code",
   "execution_count": null,
   "id": "160ff72b",
   "metadata": {},
   "outputs": [],
   "source": [
    "True or True    # True\n",
    "False or True   # True\n",
    "True or False   # True\n",
    "False or False  # False"
   ]
  },
  {
   "cell_type": "code",
   "execution_count": null,
   "id": "fa8749c1",
   "metadata": {},
   "outputs": [],
   "source": []
  }
 ],
 "metadata": {
  "kernelspec": {
   "display_name": "base",
   "language": "python",
   "name": "python3"
  },
  "language_info": {
   "codemirror_mode": {
    "name": "ipython",
    "version": 3
   },
   "file_extension": ".py",
   "mimetype": "text/x-python",
   "name": "python",
   "nbconvert_exporter": "python",
   "pygments_lexer": "ipython3",
   "version": "3.13.5"
  }
 },
 "nbformat": 4,
 "nbformat_minor": 5
}
