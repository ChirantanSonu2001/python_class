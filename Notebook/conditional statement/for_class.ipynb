{
 "cells": [
  {
   "cell_type": "code",
   "execution_count": 1,
   "id": "5134fd93",
   "metadata": {},
   "outputs": [
    {
     "name": "stdout",
     "output_type": "stream",
     "text": [
      "0\n",
      "1\n",
      "2\n",
      "3\n",
      "4\n",
      "5\n",
      "6\n",
      "7\n",
      "8\n",
      "9\n",
      "10\n"
     ]
    }
   ],
   "source": [
    "for i in range(0, 11):\n",
    "  print(i)"
   ]
  },
  {
   "cell_type": "code",
   "execution_count": 5,
   "id": "a927ecdd",
   "metadata": {},
   "outputs": [
    {
     "name": "stdout",
     "output_type": "stream",
     "text": [
      "0\n",
      "1\n",
      "4\n",
      "9\n",
      "16\n",
      "25\n",
      "36\n",
      "49\n",
      "64\n",
      "81\n",
      "100\n",
      "121\n",
      "144\n",
      "169\n",
      "196\n",
      "225\n",
      "256\n",
      "289\n",
      "324\n",
      "361\n",
      "400\n"
     ]
    }
   ],
   "source": [
    "for i in range(0, 21):\n",
    "  print(i** 2)"
   ]
  },
  {
   "cell_type": "code",
   "execution_count": 7,
   "id": "92724c31",
   "metadata": {},
   "outputs": [],
   "source": [
    "x=[1,4,9,10,5,4,3]"
   ]
  },
  {
   "cell_type": "code",
   "execution_count": null,
   "id": "5d64b9c9",
   "metadata": {},
   "outputs": [
    {
     "name": "stdout",
     "output_type": "stream",
     "text": [
      "4\n"
     ]
    }
   ],
   "source": [
    "for num in x:\n",
    "  if num % 2 == 0:\n",
    "    print(num)\n",
    "    break"
   ]
  },
  {
   "cell_type": "code",
   "execution_count": null,
   "id": "037a8896",
   "metadata": {},
   "outputs": [],
   "source": []
  },
  {
   "cell_type": "code",
   "execution_count": null,
   "id": "12342c27",
   "metadata": {},
   "outputs": [],
   "source": []
  },
  {
   "cell_type": "code",
   "execution_count": null,
   "id": "a2d8054d",
   "metadata": {},
   "outputs": [],
   "source": []
  },
  {
   "cell_type": "code",
   "execution_count": null,
   "id": "28fd6937",
   "metadata": {},
   "outputs": [],
   "source": []
  },
  {
   "cell_type": "code",
   "execution_count": null,
   "id": "77395aed",
   "metadata": {},
   "outputs": [],
   "source": []
  },
  {
   "cell_type": "code",
   "execution_count": null,
   "id": "51fc5b72",
   "metadata": {},
   "outputs": [],
   "source": []
  },
  {
   "cell_type": "code",
   "execution_count": null,
   "id": "2760bc5f",
   "metadata": {},
   "outputs": [],
   "source": [
    "i = '*'\n",
    "m=5\n",
    "\n",
    "while m<=5:\n",
    "     print(i*m)\n"
   ]
  },
  {
   "cell_type": "code",
   "execution_count": 2,
   "id": "5f566212",
   "metadata": {},
   "outputs": [
    {
     "name": "stdout",
     "output_type": "stream",
     "text": [
      "[8, 7, 5, 4, 1]\n"
     ]
    }
   ],
   "source": [
    "x=[1,4,5,7,8]\n",
    "reversed_x = []\n",
    "for item in x:\n",
    "  reversed_x.insert(0, item)\n",
    "print(reversed_x)"
   ]
  },
  {
   "cell_type": "code",
   "execution_count": null,
   "id": "4f025419",
   "metadata": {},
   "outputs": [],
   "source": []
  },
  {
   "cell_type": "code",
   "execution_count": 16,
   "id": "163f55ee",
   "metadata": {},
   "outputs": [],
   "source": [
    "# print the elements of the following list using a loop\n",
    "\n",
    "num = [1,4,9,16,25,9,36,49,64,9,81,100]\n"
   ]
  },
  {
   "cell_type": "code",
   "execution_count": 17,
   "id": "4cc4c4d3",
   "metadata": {},
   "outputs": [
    {
     "name": "stdout",
     "output_type": "stream",
     "text": [
      "1\n",
      "4\n",
      "9\n",
      "16\n",
      "25\n",
      "9\n",
      "36\n",
      "49\n",
      "64\n",
      "9\n",
      "81\n",
      "100\n"
     ]
    }
   ],
   "source": [
    "for m in num:\n",
    "  print(m) "
   ]
  },
  {
   "cell_type": "code",
   "execution_count": 18,
   "id": "f7285398",
   "metadata": {},
   "outputs": [],
   "source": [
    "# search for a number x in this tuple using loop\n",
    "\n",
    "x = 9"
   ]
  },
  {
   "cell_type": "code",
   "execution_count": 21,
   "id": "9f1807ce",
   "metadata": {},
   "outputs": [
    {
     "name": "stdout",
     "output_type": "stream",
     "text": [
      "Number found at idx 2\n",
      "Number found at idx 4\n",
      "Number found at idx 7\n"
     ]
    }
   ],
   "source": [
    "idx = 0\n",
    "for n in num:\n",
    "    if(n==9):\n",
    "        print(\"Number found at idx\",idx)\n",
    "        continue\n",
    "    idx +=1"
   ]
  },
  {
   "cell_type": "code",
   "execution_count": 22,
   "id": "542eea6d",
   "metadata": {},
   "outputs": [
    {
     "name": "stdout",
     "output_type": "stream",
     "text": [
      "factorial = 120\n"
     ]
    }
   ],
   "source": [
    "# wap to find the factorial of first n numbers.(using for)\n",
    "\n",
    "n=5\n",
    "fact =1\n",
    "\n",
    "for i in range(1,n+1):\n",
    "  fact *= i\n",
    "\n",
    "print(\"factorial =\" , fact)"
   ]
  },
  {
   "cell_type": "code",
   "execution_count": 1,
   "id": "f29d9650",
   "metadata": {},
   "outputs": [],
   "source": [
    "student_grades = {\"Alice\":95, \"Bob\":10 , \"Sonu\":20} "
   ]
  },
  {
   "cell_type": "code",
   "execution_count": 2,
   "id": "668d67ca",
   "metadata": {},
   "outputs": [
    {
     "data": {
      "text/plain": [
       "dict_keys(['Alice', 'Bob', 'Sonu'])"
      ]
     },
     "execution_count": 2,
     "metadata": {},
     "output_type": "execute_result"
    }
   ],
   "source": [
    "student_grades.keys()"
   ]
  },
  {
   "cell_type": "code",
   "execution_count": 3,
   "id": "67c9d953",
   "metadata": {},
   "outputs": [
    {
     "data": {
      "text/plain": [
       "dict_values([95, 10, 20])"
      ]
     },
     "execution_count": 3,
     "metadata": {},
     "output_type": "execute_result"
    }
   ],
   "source": [
    "student_grades.values()"
   ]
  },
  {
   "cell_type": "code",
   "execution_count": 4,
   "id": "e1097719",
   "metadata": {},
   "outputs": [
    {
     "data": {
      "text/plain": [
       "dict_items([('Alice', 95), ('Bob', 10), ('Sonu', 20)])"
      ]
     },
     "execution_count": 4,
     "metadata": {},
     "output_type": "execute_result"
    }
   ],
   "source": [
    "student_grades.items()"
   ]
  },
  {
   "cell_type": "code",
   "execution_count": 5,
   "id": "54a06bc1",
   "metadata": {},
   "outputs": [
    {
     "name": "stdout",
     "output_type": "stream",
     "text": [
      "Alice\n",
      "Bob\n",
      "Sonu\n"
     ]
    }
   ],
   "source": [
    "for i in student_grades:\n",
    "  print(i)"
   ]
  },
  {
   "cell_type": "code",
   "execution_count": 7,
   "id": "4d868fcf",
   "metadata": {},
   "outputs": [
    {
     "name": "stdout",
     "output_type": "stream",
     "text": [
      "Alice 95\n",
      "Bob 10\n",
      "Sonu 20\n"
     ]
    }
   ],
   "source": [
    "for i,j in student_grades.items():\n",
    "  print(i,j)"
   ]
  },
  {
   "cell_type": "code",
   "execution_count": 8,
   "id": "00771eea",
   "metadata": {},
   "outputs": [],
   "source": [
    "a =\"chirantan\""
   ]
  },
  {
   "cell_type": "code",
   "execution_count": 9,
   "id": "a68a1d60",
   "metadata": {},
   "outputs": [
    {
     "name": "stdout",
     "output_type": "stream",
     "text": [
      "c\n",
      "h\n",
      "i\n",
      "r\n",
      "a\n",
      "n\n",
      "t\n",
      "a\n",
      "n\n"
     ]
    }
   ],
   "source": [
    "for m in a:\n",
    "  print(m)"
   ]
  },
  {
   "cell_type": "markdown",
   "id": "919853ff",
   "metadata": {},
   "source": [
    " # Enumerate"
   ]
  },
  {
   "cell_type": "code",
   "execution_count": 1,
   "id": "a86f143d",
   "metadata": {},
   "outputs": [],
   "source": [
    "students = ['Sonu','Papu','Praveen']"
   ]
  },
  {
   "cell_type": "code",
   "execution_count": 2,
   "id": "eceffab6",
   "metadata": {},
   "outputs": [
    {
     "name": "stdout",
     "output_type": "stream",
     "text": [
      "0 Sonu\n",
      "1 Papu\n",
      "2 Praveen\n"
     ]
    }
   ],
   "source": [
    "for i,j in enumerate(students):\n",
    "  print(i,j)"
   ]
  },
  {
   "cell_type": "code",
   "execution_count": null,
   "id": "f7504c53",
   "metadata": {},
   "outputs": [],
   "source": []
  }
 ],
 "metadata": {
  "kernelspec": {
   "display_name": "base",
   "language": "python",
   "name": "python3"
  },
  "language_info": {
   "codemirror_mode": {
    "name": "ipython",
    "version": 3
   },
   "file_extension": ".py",
   "mimetype": "text/x-python",
   "name": "python",
   "nbconvert_exporter": "python",
   "pygments_lexer": "ipython3",
   "version": "3.13.5"
  }
 },
 "nbformat": 4,
 "nbformat_minor": 5
}
