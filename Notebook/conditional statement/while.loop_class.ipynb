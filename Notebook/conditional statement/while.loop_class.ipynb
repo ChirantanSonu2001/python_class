{
 "cells": [
  {
   "cell_type": "markdown",
   "id": "d0affcb9",
   "metadata": {},
   "source": [
    "# While Loop"
   ]
  },
  {
   "cell_type": "code",
   "execution_count": 6,
   "id": "5ba21008",
   "metadata": {},
   "outputs": [
    {
     "name": "stdout",
     "output_type": "stream",
     "text": [
      "0\n",
      "1\n",
      "2\n",
      "3\n",
      "4\n",
      "5\n",
      "6\n",
      "7\n",
      "8\n",
      "9\n",
      "10\n",
      "11\n",
      "12\n",
      "13\n",
      "14\n",
      "15\n",
      "stop\n"
     ]
    }
   ],
   "source": [
    "number = 15\n",
    "i=0\n",
    "while i<=number:\n",
    "  print(i)\n",
    "  i=i+1\n",
    "print(\"stop\")"
   ]
  },
  {
   "cell_type": "code",
   "execution_count": 7,
   "id": "801d1e2c",
   "metadata": {},
   "outputs": [],
   "source": [
    "# multiply number from 1 to 10 using while loop and print it"
   ]
  },
  {
   "cell_type": "code",
   "execution_count": 8,
   "id": "10855515",
   "metadata": {},
   "outputs": [],
   "source": [
    "mul_output =1"
   ]
  },
  {
   "cell_type": "code",
   "execution_count": 9,
   "id": "d06c97f9",
   "metadata": {},
   "outputs": [
    {
     "name": "stdout",
     "output_type": "stream",
     "text": [
      "120\n"
     ]
    }
   ],
   "source": [
    "i=1\n",
    "while i <=5:\n",
    "  mul_output=mul_output*i\n",
    "  i=i+1\n",
    "print(mul_output)"
   ]
  },
  {
   "cell_type": "markdown",
   "id": "53654dae",
   "metadata": {},
   "source": [
    "# List Comprehensions"
   ]
  },
  {
   "cell_type": "code",
   "execution_count": 10,
   "id": "00092905",
   "metadata": {},
   "outputs": [
    {
     "data": {
      "text/plain": [
       "[1, 5, 9, 22]"
      ]
     },
     "execution_count": 10,
     "metadata": {},
     "output_type": "execute_result"
    }
   ],
   "source": [
    "a =[1,5,9,22]\n",
    "a"
   ]
  },
  {
   "cell_type": "code",
   "execution_count": 11,
   "id": "13d5d0c3",
   "metadata": {},
   "outputs": [],
   "source": [
    "b= [ g*g for g in a]"
   ]
  },
  {
   "cell_type": "code",
   "execution_count": 12,
   "id": "7d21c72d",
   "metadata": {},
   "outputs": [
    {
     "data": {
      "text/plain": [
       "[1, 25, 81, 484]"
      ]
     },
     "execution_count": 12,
     "metadata": {},
     "output_type": "execute_result"
    }
   ],
   "source": [
    "b"
   ]
  },
  {
   "cell_type": "code",
   "execution_count": null,
   "id": "618a7cdc",
   "metadata": {},
   "outputs": [],
   "source": []
  }
 ],
 "metadata": {
  "kernelspec": {
   "display_name": "base",
   "language": "python",
   "name": "python3"
  },
  "language_info": {
   "codemirror_mode": {
    "name": "ipython",
    "version": 3
   },
   "file_extension": ".py",
   "mimetype": "text/x-python",
   "name": "python",
   "nbconvert_exporter": "python",
   "pygments_lexer": "ipython3",
   "version": "3.13.5"
  }
 },
 "nbformat": 4,
 "nbformat_minor": 5
}
